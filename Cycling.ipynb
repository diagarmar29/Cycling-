{
 "cells": [
  {
   "cell_type": "markdown",
   "id": "9871ec55",
   "metadata": {},
   "source": [
    "# Assessment Title: Cycling "
   ]
  },
  {
   "cell_type": "markdown",
   "id": "9326e546",
   "metadata": {},
   "source": [
    "Analyzing Ireland's Cycling Data and Comparing It with Mexico's and New York's"
   ]
  },
  {
   "cell_type": "code",
   "execution_count": null,
   "id": "4bfd3f0c",
   "metadata": {},
   "outputs": [],
   "source": [
    "pip install matplotlib"
   ]
  },
  {
   "cell_type": "code",
   "execution_count": null,
   "id": "b58f5988",
   "metadata": {},
   "outputs": [],
   "source": [
    "import matplotlib.pyplot as plt\n",
    "import matplotlib.image as mpimg\n",
    "import matplotlib.pyplot as plt\n",
    "import numpy as np\n",
    "import pandas as pd\n",
    "import seaborn as sns\n",
    "import pandas as pd\n",
    "import numpy as np\n",
    "from matplotlib.colors import ListedColormap\n",
    "import warnings\n",
    "warnings.simplefilter(action='ignore', category=FutureWarning)"
   ]
  },
  {
   "cell_type": "code",
   "execution_count": null,
   "id": "887f0979",
   "metadata": {},
   "outputs": [],
   "source": [
    "img = mpimg.imread('bike.jpg')\n",
    "imgplot = plt.imshow(img)\n",
    "plt.axis('off')\n",
    "plt.show()"
   ]
  },
  {
   "cell_type": "markdown",
   "id": "c19a4b3e",
   "metadata": {},
   "source": [
    "# DUBLIN "
   ]
  },
  {
   "cell_type": "markdown",
   "id": "417b08c5",
   "metadata": {
    "slideshow": {
     "slide_type": "slide"
    }
   },
   "source": [
    "Import of raw data and data cleaning "
   ]
  },
  {
   "cell_type": "code",
   "execution_count": null,
   "id": "5efc34e0",
   "metadata": {},
   "outputs": [],
   "source": [
    "dublin1= pd.read_csv('dublin1.csv')\n",
    "dublin2= pd.read_csv('dublin2.csv')"
   ]
  },
  {
   "cell_type": "code",
   "execution_count": null,
   "id": "0a4debc0",
   "metadata": {},
   "outputs": [],
   "source": [
    "dublin1.head(1)"
   ]
  },
  {
   "cell_type": "code",
   "execution_count": null,
   "id": "d4d5e146",
   "metadata": {
    "scrolled": true
   },
   "outputs": [],
   "source": [
    "dublin2.head(1)"
   ]
  },
  {
   "cell_type": "code",
   "execution_count": null,
   "id": "48abfde7",
   "metadata": {},
   "outputs": [],
   "source": [
    "# headers of each file\n",
    "headers_dublin1 = dublin1.columns\n",
    "headers_dublin2 = dublin2.columns\n",
    "\n",
    "# Comparing the headers\n",
    "if list(headers_dublin1) == list(headers_dublin2):\n",
    "    print(\"The datasets have the same headers.\")\n",
    "else:\n",
    "    print(\"The datasets have different headers.\")"
   ]
  },
  {
   "cell_type": "markdown",
   "id": "9bdaddbd",
   "metadata": {},
   "source": [
    "Since they have the same headers they will be concatenated to have only one dataset "
   ]
  },
  {
   "cell_type": "code",
   "execution_count": null,
   "id": "8e664f74",
   "metadata": {},
   "outputs": [],
   "source": [
    "dublin = pd.concat([dublin1, dublin2])\n",
    "dublin.head(3)"
   ]
  },
  {
   "cell_type": "markdown",
   "id": "a50f7d73",
   "metadata": {},
   "source": [
    "### Exploratory Data Analysis (EDA)"
   ]
  },
  {
   "cell_type": "code",
   "execution_count": null,
   "id": "386ba835",
   "metadata": {},
   "outputs": [],
   "source": [
    "dublin.shape"
   ]
  },
  {
   "cell_type": "code",
   "execution_count": null,
   "id": "8f6b801d",
   "metadata": {},
   "outputs": [],
   "source": [
    "dublin.info()"
   ]
  },
  {
   "cell_type": "code",
   "execution_count": null,
   "id": "0267b9f3",
   "metadata": {},
   "outputs": [],
   "source": [
    "dublin.isnull().sum()"
   ]
  },
  {
   "cell_type": "code",
   "execution_count": null,
   "id": "0b149462",
   "metadata": {},
   "outputs": [],
   "source": [
    "dublin['system_id'].value_counts()"
   ]
  },
  {
   "cell_type": "code",
   "execution_count": null,
   "id": "23a240df",
   "metadata": {},
   "outputs": [],
   "source": [
    "dublin['is_installed'].value_counts()"
   ]
  },
  {
   "cell_type": "code",
   "execution_count": null,
   "id": "ed801e1e",
   "metadata": {},
   "outputs": [],
   "source": [
    "dublin['is_renting'].value_counts()"
   ]
  },
  {
   "cell_type": "code",
   "execution_count": null,
   "id": "2b9dfb20",
   "metadata": {},
   "outputs": [],
   "source": [
    "dublin['is_returning'].value_counts()"
   ]
  },
  {
   "cell_type": "code",
   "execution_count": null,
   "id": "276337bb",
   "metadata": {},
   "outputs": [],
   "source": [
    "dublin= dublin.drop(['short_name', 'region_id','system_id','is_installed','is_renting','is_returning'], axis=1)"
   ]
  },
  {
   "cell_type": "code",
   "execution_count": null,
   "id": "c63c41bc",
   "metadata": {},
   "outputs": [],
   "source": [
    "dublin.describe()"
   ]
  },
  {
   "cell_type": "markdown",
   "id": "bd67c95d",
   "metadata": {},
   "source": [
    "#### Date and time format change "
   ]
  },
  {
   "cell_type": "code",
   "execution_count": null,
   "id": "6c6e20db",
   "metadata": {},
   "outputs": [],
   "source": [
    "dublin.head(1)"
   ]
  },
  {
   "cell_type": "code",
   "execution_count": null,
   "id": "4646a458-5cb8-46f1-a51b-7bdb918d5184",
   "metadata": {},
   "outputs": [],
   "source": [
    "dublin['last_reported'] = dublin['last_reported'].astype(str)"
   ]
  },
  {
   "cell_type": "code",
   "execution_count": null,
   "id": "9995afb3-1182-41cf-be9e-223b754c7970",
   "metadata": {
    "scrolled": true
   },
   "outputs": [],
   "source": [
    "dublin[['date', 'time']] = dublin['last_reported'].str.split(' ', expand=True)"
   ]
  },
  {
   "cell_type": "code",
   "execution_count": null,
   "id": "3dfc0509",
   "metadata": {},
   "outputs": [],
   "source": [
    "dublin['date'] = pd.to_datetime(dublin['date'])\n",
    "\n",
    "dublin['time'] = pd.to_datetime(dublin['time']).dt.time"
   ]
  },
  {
   "cell_type": "code",
   "execution_count": null,
   "id": "61d5c6e4",
   "metadata": {},
   "outputs": [],
   "source": [
    "dublin.dtypes"
   ]
  },
  {
   "cell_type": "code",
   "execution_count": null,
   "id": "6e16c14e",
   "metadata": {},
   "outputs": [],
   "source": [
    "dublin= dublin.drop('last_reported', axis=1)"
   ]
  },
  {
   "cell_type": "code",
   "execution_count": null,
   "id": "077475e0",
   "metadata": {},
   "outputs": [],
   "source": [
    "dublin.head(1)"
   ]
  },
  {
   "cell_type": "code",
   "execution_count": null,
   "id": "a07fa65d",
   "metadata": {},
   "outputs": [],
   "source": [
    "dublin= dublin.drop('address', axis=1)"
   ]
  },
  {
   "cell_type": "markdown",
   "id": "2e0ff405",
   "metadata": {},
   "source": [
    "## Bicycles in use "
   ]
  },
  {
   "cell_type": "code",
   "execution_count": null,
   "id": "e8082065",
   "metadata": {},
   "outputs": [],
   "source": [
    "dublin['bikes_in_use'] = dublin['capacity'] - dublin['num_bikes_available']\n",
    "dublin.head(1)"
   ]
  },
  {
   "cell_type": "markdown",
   "id": "041402bb",
   "metadata": {},
   "source": [
    "## Analysis of bicycle use in Dublin"
   ]
  },
  {
   "cell_type": "markdown",
   "id": "a10b8c3e",
   "metadata": {},
   "source": [
    "### Bikes available"
   ]
  },
  {
   "cell_type": "code",
   "execution_count": null,
   "id": "478859dc",
   "metadata": {},
   "outputs": [],
   "source": [
    "print(\"Descriptive statistics for number of bikes available:\")\n",
    "print(dublin['num_bikes_available'].describe())"
   ]
  },
  {
   "cell_type": "code",
   "execution_count": null,
   "id": "6718e00b",
   "metadata": {},
   "outputs": [],
   "source": [
    "sns.boxplot(x=dublin['num_bikes_available'], color='skyblue')\n",
    "plt.title('Number of Bikes Available')\n",
    "plt.xlabel('Number of Bikes Available')\n",
    "plt.grid(True, linestyle='--', alpha=0.7)\n",
    "plt.show()"
   ]
  },
  {
   "cell_type": "markdown",
   "id": "d21c52ed",
   "metadata": {},
   "source": [
    "The mean number of bicycles available per docks is 11 bicycles per station. "
   ]
  },
  {
   "cell_type": "markdown",
   "id": "c455b11b",
   "metadata": {},
   "source": [
    "### Stations"
   ]
  },
  {
   "cell_type": "code",
   "execution_count": null,
   "id": "9c3eab26",
   "metadata": {},
   "outputs": [],
   "source": [
    "stations = dublin['station_id'].nunique()\n",
    "print(f\"Total number of stations: {stations}\")"
   ]
  },
  {
   "cell_type": "code",
   "execution_count": null,
   "id": "6f18d5bb",
   "metadata": {},
   "outputs": [],
   "source": [
    "#Stations with Highest bike availability\n",
    "top_stations = dublin.groupby('name')['num_bikes_available'].mean().sort_values(ascending=False)\n",
    "print(\"Stations with highest bike availability:\")\n",
    "print(top_stations.head(10))"
   ]
  },
  {
   "cell_type": "code",
   "execution_count": null,
   "id": "78188924",
   "metadata": {},
   "outputs": [],
   "source": [
    "# Stations with lowest bike availability\n",
    "print(\"Stations with lowest bike availability:\")\n",
    "print(top_stations.tail(10))"
   ]
  },
  {
   "cell_type": "code",
   "execution_count": null,
   "id": "d4d3f4d5",
   "metadata": {},
   "outputs": [],
   "source": [
    "top_10_stations = top_stations.head(10)\n",
    "\n",
    "plt.figure(figsize=(9, 6))\n",
    "top_10_stations.plot(kind='bar', color='pink')\n",
    "\n",
    "\n",
    "plt.title('Top 10 Stations by Average Number of Bikes Available',fontsize=13)\n",
    "plt.xlabel('Station')\n",
    "plt.ylabel('Average Number of Bikes Available')\n",
    "plt.xticks(rotation=20, fontsize=6) \n",
    "\n",
    "\n",
    "plt.tight_layout()  \n",
    "plt.show()"
   ]
  },
  {
   "cell_type": "markdown",
   "id": "16394c68",
   "metadata": {},
   "source": [
    "## Location of stations with dataset information"
   ]
  },
  {
   "cell_type": "markdown",
   "id": "220bd14d",
   "metadata": {},
   "source": [
    "### Scatter plot"
   ]
  },
  {
   "cell_type": "code",
   "execution_count": null,
   "id": "83b8d4b4",
   "metadata": {},
   "outputs": [],
   "source": [
    "import plotly.express as px\n",
    "import plotly.io as pio\n",
    "\n",
    "pio.templates.default = \"plotly\""
   ]
  },
  {
   "cell_type": "code",
   "execution_count": null,
   "id": "707d8510",
   "metadata": {
    "scrolled": true
   },
   "outputs": [],
   "source": [
    "fig = px.scatter(\n",
    "    dublin,\n",
    "    x='lon',\n",
    "    y='lat',\n",
    "    size='capacity',\n",
    "    color='capacity',\n",
    "    hover_name='name',\n",
    "    hover_data={\n",
    "        'station_id': True,\n",
    "        'num_bikes_available': True,\n",
    "        'num_docks_available': True,\n",
    "        'date': True,\n",
    "        'time': True\n",
    "    },\n",
    "    size_max=60,\n",
    "    title='Bike Station Capacity',\n",
    "    labels={'capacity': 'Bike Station Capacity'}\n",
    ")\n",
    "\n",
    "# layout \n",
    "fig.update_layout(\n",
    "    xaxis_title='Longitude',\n",
    "    yaxis_title='Latitude',\n",
    "    title_font_size=14,\n",
    "    xaxis_title_font_size=12,\n",
    "    yaxis_title_font_size=12,\n",
    "    coloraxis_colorbar_title='Capacity'\n",
    ")\n",
    "\n",
    "fig.show()"
   ]
  },
  {
   "cell_type": "markdown",
   "id": "1b21921d",
   "metadata": {},
   "source": [
    "## Location of stations using an API "
   ]
  },
  {
   "cell_type": "code",
   "execution_count": null,
   "id": "f433d5a6",
   "metadata": {
    "scrolled": true
   },
   "outputs": [],
   "source": [
    "!pip install requests"
   ]
  },
  {
   "cell_type": "code",
   "execution_count": null,
   "id": "33d97476",
   "metadata": {},
   "outputs": [],
   "source": [
    "import requests\n",
    "import json\n",
    "from dotenv import load_dotenv\n",
    "from os import getenv\n",
    "import os"
   ]
  },
  {
   "cell_type": "code",
   "execution_count": null,
   "id": "f9eccb36",
   "metadata": {},
   "outputs": [],
   "source": [
    "api_key = os.getenv('API_KEY')\n",
    "contract_name = os.getenv('CONTRACT_NAME')"
   ]
  },
  {
   "cell_type": "code",
   "execution_count": null,
   "id": "31248bf9",
   "metadata": {},
   "outputs": [],
   "source": [
    "# Defining the API URL\n",
    "url = f'https://api.jcdecaux.com/vls/v1/stations?contract={contract_name}&apiKey={api_key}'"
   ]
  },
  {
   "cell_type": "code",
   "execution_count": null,
   "id": "5c585829",
   "metadata": {},
   "outputs": [],
   "source": [
    "response = requests.get(url)"
   ]
  },
  {
   "cell_type": "markdown",
   "id": "8c73cc77",
   "metadata": {},
   "source": [
    "Since JCDecaux has different contracts in various locations around the world, to obtain accurate information, the contract locations must first be checked to access it."
   ]
  },
  {
   "cell_type": "code",
   "execution_count": null,
   "id": "ca6a4515",
   "metadata": {},
   "outputs": [],
   "source": [
    "# API's Key\n",
    "api_key = '5c20182a11586d9a8e24446b2d69e8c33ff0948c'\n",
    "\n",
    "# Defining URL \n",
    "contracts_url = f'https://api.jcdecaux.com/vls/v1/contracts?apiKey={api_key}'\n",
    "\n",
    "contracts_response = requests.get(contracts_url)\n",
    "\n",
    "# Checking if the request was successful\n",
    "if contracts_response.status_code == 200:\n",
    "    contracts_data = contracts_response.json()\n",
    "    # Contracts\n",
    "    for contract in contracts_data:\n",
    "        print(contract['name'])\n",
    "else:\n",
    "    print(f'Error: {contracts_response.status_code}')"
   ]
  },
  {
   "cell_type": "code",
   "execution_count": null,
   "id": "876dd5d7",
   "metadata": {},
   "outputs": [],
   "source": [
    "# Defining API and contract's name\n",
    "api_key = '5c20182a11586d9a8e24446b2d69e8c33ff0948c'\n",
    "contract_name = 'Dublin'\n",
    "\n",
    "url = 'https://api.jcdecaux.com/vls/v1/stations'\n",
    "\n",
    "# Making the request to the API\n",
    "params = {\n",
    "    'contract': contract_name,\n",
    "    'apiKey': api_key\n",
    "}\n",
    "\n",
    "response = requests.get(url, params=params)\n",
    "\n",
    "# Verification    \n",
    "data = response.json()\n",
    "if response.status_code == 200:\n",
    "        print('The request was successful.')\n",
    "else:\n",
    "    print('The request was not successful.')"
   ]
  },
  {
   "cell_type": "code",
   "execution_count": null,
   "id": "faceda99",
   "metadata": {},
   "outputs": [],
   "source": [
    "dublin2 = pd.DataFrame(data)\n",
    "dublin2.head(2)"
   ]
  },
  {
   "cell_type": "code",
   "execution_count": null,
   "id": "83a79531",
   "metadata": {},
   "outputs": [],
   "source": [
    "pip install folium"
   ]
  },
  {
   "cell_type": "code",
   "execution_count": null,
   "id": "7218de0b",
   "metadata": {},
   "outputs": [],
   "source": [
    "import folium\n",
    "\n",
    "def create_station_map(dublin2):\n",
    "    # Create a map centered on Dublin\n",
    "    dublin_map = folium.Map(location=[53.3498, -6.2603], zoom_start=13)\n",
    "    \n",
    "    # Iterate over the rows of the DataFrame\n",
    "    for index, row in dublin2.iterrows():\n",
    "        # Get the position \n",
    "        lat = row['position']['lat']\n",
    "        lng = row['position']['lng']\n",
    "        station_name = row['name']\n",
    "        \n",
    "        # Add a marker to the map\n",
    "        folium.Marker([lat, lng], popup=station_name).add_to(dublin_map)\n",
    "    \n",
    "    # Display the map\n",
    "    display(dublin_map)\n",
    "\n",
    "create_station_map(dublin2)"
   ]
  },
  {
   "cell_type": "markdown",
   "id": "56162ee4",
   "metadata": {},
   "source": [
    "# NEW YORK"
   ]
  },
  {
   "cell_type": "markdown",
   "id": "21ab7a12",
   "metadata": {},
   "source": [
    "Import of raw data and data cleaning "
   ]
  },
  {
   "cell_type": "code",
   "execution_count": null,
   "id": "50946e3f",
   "metadata": {},
   "outputs": [],
   "source": [
    "ny = pd.read_csv('NY1.csv')"
   ]
  },
  {
   "cell_type": "code",
   "execution_count": null,
   "id": "25e14fcf",
   "metadata": {},
   "outputs": [],
   "source": [
    "ny.head(3)"
   ]
  },
  {
   "cell_type": "code",
   "execution_count": null,
   "id": "9b3cf598",
   "metadata": {},
   "outputs": [],
   "source": [
    "ny.info()"
   ]
  },
  {
   "cell_type": "code",
   "execution_count": null,
   "id": "6c6014fe",
   "metadata": {
    "scrolled": true
   },
   "outputs": [],
   "source": [
    "ny.isnull().sum()"
   ]
  },
  {
   "cell_type": "code",
   "execution_count": null,
   "id": "a7fa49ef",
   "metadata": {},
   "outputs": [],
   "source": [
    "ny= ny.drop(['ride_id','start_station_id', 'end_station_id'], axis=1)"
   ]
  },
  {
   "cell_type": "markdown",
   "id": "93b2ba1a",
   "metadata": {},
   "source": [
    "#### Null field"
   ]
  },
  {
   "cell_type": "markdown",
   "id": "4a2dab3a",
   "metadata": {},
   "source": [
    "start_station_name "
   ]
  },
  {
   "cell_type": "code",
   "execution_count": null,
   "id": "f7e7fb20",
   "metadata": {},
   "outputs": [],
   "source": [
    "empty_name = ny[ny['start_station_name'].isnull()]\n",
    "empty_name"
   ]
  },
  {
   "cell_type": "code",
   "execution_count": null,
   "id": "f5cd6908",
   "metadata": {},
   "outputs": [],
   "source": [
    "lat = ny[ny['start_lat'] == 40.71]\n",
    "lat"
   ]
  },
  {
   "cell_type": "code",
   "execution_count": null,
   "id": "e2c0f7d2",
   "metadata": {},
   "outputs": [],
   "source": [
    "ny['start_station_name'] = ny['start_station_name'].fillna('other')"
   ]
  },
  {
   "cell_type": "markdown",
   "id": "1c575a06",
   "metadata": {},
   "source": [
    "#### Date and time format change"
   ]
  },
  {
   "cell_type": "code",
   "execution_count": null,
   "id": "2ea81092",
   "metadata": {},
   "outputs": [],
   "source": [
    "ny['started_at'] = pd.to_datetime(ny['started_at'], format='%d/%m/%Y %H:%M')\n",
    "ny['ended_at'] = pd.to_datetime(ny['ended_at'], format='%d/%m/%Y %H:%M')"
   ]
  },
  {
   "cell_type": "code",
   "execution_count": null,
   "id": "94c206ef",
   "metadata": {},
   "outputs": [],
   "source": [
    "# Extracting date and time\n",
    "ny['date_started'] = ny['started_at'].dt.date\n",
    "ny['date_end'] = ny['ended_at'].dt.date\n",
    "ny['time_started'] = ny['started_at'].dt.time\n",
    "ny['time_end'] = ny['ended_at'].dt.time"
   ]
  },
  {
   "cell_type": "code",
   "execution_count": null,
   "id": "1e52066e",
   "metadata": {},
   "outputs": [],
   "source": [
    "ny.head(2)"
   ]
  },
  {
   "cell_type": "code",
   "execution_count": null,
   "id": "0c26a309",
   "metadata": {},
   "outputs": [],
   "source": [
    "ny['duration_minutes'] = (ny['ended_at'] - ny['started_at']).dt.total_seconds() / 60"
   ]
  },
  {
   "cell_type": "markdown",
   "id": "5a26fc08",
   "metadata": {},
   "source": [
    "#### Duration of each ride"
   ]
  },
  {
   "cell_type": "code",
   "execution_count": null,
   "id": "9bc91594",
   "metadata": {},
   "outputs": [],
   "source": [
    "ny['duration'] = ny['ended_at'] - ny['started_at']\n",
    "\n",
    "# In minutes\n",
    "ny['duration_minutes'] = ny['duration'].dt.total_seconds() / 60\n",
    "ny['duration_minutes'] = ny['duration_minutes'].round(2)\n",
    "\n",
    "ny = ny.drop('duration', axis=1)"
   ]
  },
  {
   "cell_type": "code",
   "execution_count": null,
   "id": "3b952494",
   "metadata": {},
   "outputs": [],
   "source": [
    "ny= ny.drop(['started_at','ended_at'], axis=1)"
   ]
  },
  {
   "cell_type": "code",
   "execution_count": null,
   "id": "1e3250f6",
   "metadata": {},
   "outputs": [],
   "source": [
    "ny.head(1)"
   ]
  },
  {
   "cell_type": "code",
   "execution_count": null,
   "id": "d1397ce2",
   "metadata": {},
   "outputs": [],
   "source": [
    "ny.isnull().sum()"
   ]
  },
  {
   "cell_type": "code",
   "execution_count": null,
   "id": "50f7f72f",
   "metadata": {},
   "outputs": [],
   "source": [
    "# NY = Individual analysis of New York\n",
    "# ny = Analysis comparing New York with other countries \n",
    "\n",
    "NY= ny"
   ]
  },
  {
   "cell_type": "code",
   "execution_count": null,
   "id": "1615ebbb",
   "metadata": {},
   "outputs": [],
   "source": [
    "NY= NY.dropna(subset=['end_lat', 'end_lng','end_station_name'])\n",
    "NY.isnull().sum()"
   ]
  },
  {
   "cell_type": "code",
   "execution_count": null,
   "id": "3507546c",
   "metadata": {},
   "outputs": [],
   "source": [
    "ny= ny.drop(['start_lat','start_lng','rideable_type','end_lat','end_lng','member_casual','end_station_name'], axis=1)\n",
    "ny.isnull().sum()"
   ]
  },
  {
   "cell_type": "code",
   "execution_count": null,
   "id": "d9c3d8f6",
   "metadata": {},
   "outputs": [],
   "source": [
    "ny['bikes_in_use'] = 1"
   ]
  },
  {
   "cell_type": "code",
   "execution_count": null,
   "id": "aafadfaa",
   "metadata": {},
   "outputs": [],
   "source": [
    "ny.dtypes"
   ]
  },
  {
   "cell_type": "code",
   "execution_count": null,
   "id": "3f83ae8a",
   "metadata": {},
   "outputs": [],
   "source": [
    "ny.describe()"
   ]
  },
  {
   "cell_type": "code",
   "execution_count": null,
   "id": "612d1738",
   "metadata": {},
   "outputs": [],
   "source": [
    "ny.shape"
   ]
  },
  {
   "cell_type": "markdown",
   "id": "f03b9e3a",
   "metadata": {},
   "source": [
    "# Analysis of bicycle use in New York"
   ]
  },
  {
   "cell_type": "markdown",
   "id": "33dbbb31",
   "metadata": {},
   "source": [
    "#### Type of bicycle"
   ]
  },
  {
   "cell_type": "code",
   "execution_count": null,
   "id": "2ce4eea3",
   "metadata": {},
   "outputs": [],
   "source": [
    "print(\"Bicycle Type available:\")\n",
    "print(NY['rideable_type'].value_counts())"
   ]
  },
  {
   "cell_type": "code",
   "execution_count": null,
   "id": "2a481ccd",
   "metadata": {},
   "outputs": [],
   "source": [
    "rideable_type_counts = NY['rideable_type'].value_counts()\n",
    "rideable_type_counts.plot(kind='bar', color='darkseagreen')\n",
    "plt.title('Bicycle Type', fontsize=14)\n",
    "plt.xlabel('Type' , fontsize=13)\n",
    "plt.ylabel('Bicycles', fontsize=13)\n",
    "plt.xticks(rotation=360)\n",
    "plt.show()"
   ]
  },
  {
   "cell_type": "markdown",
   "id": "dca89386",
   "metadata": {},
   "source": [
    "#### Membership Type"
   ]
  },
  {
   "cell_type": "code",
   "execution_count": null,
   "id": "d0595c85",
   "metadata": {},
   "outputs": [],
   "source": [
    "print(\"Rides by Membership Type:\")\n",
    "print(NY['member_casual'].value_counts())"
   ]
  },
  {
   "cell_type": "code",
   "execution_count": null,
   "id": "288aa64a",
   "metadata": {},
   "outputs": [],
   "source": [
    "membership_counts = NY['member_casual'].value_counts()\n",
    "\n",
    "plt.figure(figsize=(5, 6))\n",
    "plt.pie(membership_counts, labels=membership_counts.index, autopct='%1.1f%%', colors=['khaki', 'darkseagreen'], wedgeprops=dict(width=0.3))\n",
    "plt.title('Rides by Membership Type')\n",
    "plt.show()"
   ]
  },
  {
   "cell_type": "markdown",
   "id": "0a0dd812",
   "metadata": {},
   "source": [
    "### Duration of Rides"
   ]
  },
  {
   "cell_type": "code",
   "execution_count": null,
   "id": "54bcd60d",
   "metadata": {
    "scrolled": true
   },
   "outputs": [],
   "source": [
    "print(\"Duration of Rides:\")\n",
    "print(NY['duration_minutes'].describe())"
   ]
  },
  {
   "cell_type": "markdown",
   "id": "7e029fcb",
   "metadata": {},
   "source": [
    "##### Long Trips"
   ]
  },
  {
   "cell_type": "code",
   "execution_count": null,
   "id": "028f3a85",
   "metadata": {},
   "outputs": [],
   "source": [
    "long_trips = ny[ny['duration_minutes'] > 20]\n",
    "\n",
    "num_long_trips = long_trips.shape[0]\n",
    "\n",
    "print(f\"Number of rides longer than 20 minutes: {num_long_trips}\")"
   ]
  },
  {
   "cell_type": "code",
   "execution_count": null,
   "id": "48a580fa",
   "metadata": {},
   "outputs": [],
   "source": [
    "long_trips = (num_long_trips / ny.shape[0]) * 100\n",
    "print(f'Percentage of trips more than 20 minutes: {long_trips:.2f}%')"
   ]
  },
  {
   "cell_type": "markdown",
   "id": "a42b9dbf",
   "metadata": {},
   "source": [
    "##### Short Trips"
   ]
  },
  {
   "cell_type": "code",
   "execution_count": null,
   "id": "bdb8d7f5",
   "metadata": {},
   "outputs": [],
   "source": [
    "short_trips = ny[ny['duration_minutes'] < 20]\n",
    "\n",
    "num_short_trips = short_trips.shape[0]\n",
    "\n",
    "print(f'Number of trips less than 20 minutes: {num_short_trips}')"
   ]
  },
  {
   "cell_type": "code",
   "execution_count": null,
   "id": "8cac4f6e",
   "metadata": {},
   "outputs": [],
   "source": [
    "short_trips = (num_short_trips / ny.shape[0]) * 100\n",
    "print(f'Percentage of trips less than 20 minutes: {short_trips:.2f}%')"
   ]
  },
  {
   "cell_type": "code",
   "execution_count": null,
   "id": "db60892a",
   "metadata": {},
   "outputs": [],
   "source": [
    "labels = ['Trips < 20 min', 'Trips >= 20 min']\n",
    "sizes = [num_short_trips, num_long_trips]\n",
    "colors = ['darkseagreen', 'khaki']\n",
    "explode = (0.1, 0) \n",
    "\n",
    "plt.figure(figsize=(6, 6))\n",
    "plt.pie(sizes, explode=explode, labels=labels, colors=colors, autopct='%1.1f%%',\n",
    "        shadow=True, startangle=140)\n",
    "plt.title('Proportion of Trip Durations')\n",
    "plt.show()"
   ]
  },
  {
   "cell_type": "code",
   "execution_count": null,
   "id": "296629de",
   "metadata": {},
   "outputs": [],
   "source": [
    "#Distribution of Ride Durations Up to 60 minutes\n",
    "plt.figure(figsize=(10, 6))\n",
    "plt.hist(ny['duration_minutes'], bins=range(0, 60, 1), color='khaki', edgecolor='black')\n",
    "plt.title('Distribution of Ride Durations, Up to 60 minutes')\n",
    "plt.xlabel('Minutes')\n",
    "plt.ylabel('Frequency')\n",
    "plt.xlim(0, 60)\n",
    "plt.show()"
   ]
  },
  {
   "cell_type": "markdown",
   "id": "20fa0321",
   "metadata": {},
   "source": [
    "## Data normalization "
   ]
  },
  {
   "cell_type": "code",
   "execution_count": null,
   "id": "5bbe0bb2",
   "metadata": {},
   "outputs": [],
   "source": [
    "from sklearn.preprocessing import MinMaxScaler"
   ]
  },
  {
   "cell_type": "code",
   "execution_count": null,
   "id": "625231cf",
   "metadata": {},
   "outputs": [],
   "source": [
    "durations = ny[['duration_minutes']]\n",
    "\n",
    "scaler = MinMaxScaler()\n",
    "\n",
    "ny['duration_minutes_normalized'] = scaler.fit_transform(durations)\n",
    "\n",
    "ny[['duration_minutes', 'duration_minutes_normalized']].head()"
   ]
  },
  {
   "cell_type": "markdown",
   "id": "6274725b",
   "metadata": {},
   "source": [
    "## Data Standardized"
   ]
  },
  {
   "cell_type": "code",
   "execution_count": null,
   "id": "1fbcc7c8",
   "metadata": {},
   "outputs": [],
   "source": [
    "from sklearn.preprocessing import StandardScaler"
   ]
  },
  {
   "cell_type": "code",
   "execution_count": null,
   "id": "0b77a686",
   "metadata": {},
   "outputs": [],
   "source": [
    "scaler = StandardScaler()\n",
    "\n",
    "ny['duration_minutes_standardized'] = scaler.fit_transform(durations)\n",
    "\n",
    "\n",
    "ny[['duration_minutes', 'duration_minutes_standardized']].head()"
   ]
  },
  {
   "cell_type": "markdown",
   "id": "88f24fc1",
   "metadata": {},
   "source": [
    "### Heatmaps for Bike Trip Start and End Locations"
   ]
  },
  {
   "cell_type": "code",
   "execution_count": null,
   "id": "adffa021",
   "metadata": {},
   "outputs": [],
   "source": [
    "from folium.plugins import HeatMap\n",
    "from IPython.display import IFrame"
   ]
  },
  {
   "cell_type": "code",
   "execution_count": null,
   "id": "73bc2c27",
   "metadata": {},
   "outputs": [],
   "source": [
    "# Sample of the DataFrame for a more manageable size\n",
    "sample_df = NY.sample(frac=0.01, random_state=1) \n",
    "\n",
    "# Map \n",
    "avg_lat = sample_df['start_lat'].mean()\n",
    "avg_lng = sample_df['start_lng'].mean()\n",
    "station_map = folium.Map(location=[avg_lat, avg_lng], zoom_start=13)\n",
    "\n",
    "# Coordinates for the heatmap\n",
    "start_coords = sample_df[['start_lat', 'start_lng']].dropna().values.tolist() \n",
    "end_coords = sample_df[['end_lat', 'end_lng']].dropna().values.tolist() \n",
    "\n",
    "# Heatmap to the map\n",
    "HeatMap(start_coords, radius=10, max_zoom=13).add_to(station_map)\n",
    "HeatMap(end_coords, radius=10, max_zoom=13).add_to(station_map)\n",
    "\n",
    "station_map.save('heatmap.html')"
   ]
  },
  {
   "cell_type": "code",
   "execution_count": null,
   "id": "a9346aa0",
   "metadata": {},
   "outputs": [],
   "source": [
    "IFrame(src='heatmap.html', width=800, height=600)"
   ]
  },
  {
   "cell_type": "markdown",
   "id": "1de34043",
   "metadata": {},
   "source": [
    "#### TOP 10 Routes"
   ]
  },
  {
   "cell_type": "code",
   "execution_count": null,
   "id": "98809ffd",
   "metadata": {},
   "outputs": [],
   "source": [
    "NY['route'] = NY['start_station_name'] + ' to ' + NY['end_station_name']\n",
    "route_usage = NY['route'].value_counts().head(10)\n",
    "\n",
    "plt.figure(figsize=(10, 6))\n",
    "sns.barplot(x=route_usage.values, y=route_usage.index, palette='viridis')\n",
    "plt.title('Top 10 Most Common Routes')\n",
    "plt.xlabel('Number of Trips')\n",
    "plt.ylabel('Route')\n",
    "plt.show()"
   ]
  },
  {
   "cell_type": "markdown",
   "id": "1d7008bd",
   "metadata": {},
   "source": [
    "# MEXICO CITY"
   ]
  },
  {
   "cell_type": "code",
   "execution_count": null,
   "id": "2e3aa502",
   "metadata": {},
   "outputs": [],
   "source": [
    "mexico = pd.read_csv('mexico.csv')\n",
    "mexico.head()"
   ]
  },
  {
   "cell_type": "markdown",
   "id": "2a2d03bf",
   "metadata": {},
   "source": [
    "#### Exploratory Data Analysis (EDA)"
   ]
  },
  {
   "cell_type": "code",
   "execution_count": null,
   "id": "c3a660d6",
   "metadata": {},
   "outputs": [],
   "source": [
    "mexico.columns.tolist()"
   ]
  },
  {
   "cell_type": "code",
   "execution_count": null,
   "id": "639df628",
   "metadata": {},
   "outputs": [],
   "source": [
    "mexico_columns = [\n",
    "    'ride_gender',\n",
    "    'ride_age',\n",
    "    'Bike',\n",
    "    'start_station_name',\n",
    "    'date_started',\n",
    "    'time_started',\n",
    "    'end_station_name',\n",
    "    'date_end',\n",
    "    'time_end'\n",
    "]\n",
    "\n",
    "mexico.columns = mexico_columns"
   ]
  },
  {
   "cell_type": "code",
   "execution_count": null,
   "id": "2cede158",
   "metadata": {},
   "outputs": [],
   "source": [
    "mexico.dtypes"
   ]
  },
  {
   "cell_type": "code",
   "execution_count": null,
   "id": "acfb98a3",
   "metadata": {},
   "outputs": [],
   "source": [
    "mexico.shape"
   ]
  },
  {
   "cell_type": "code",
   "execution_count": null,
   "id": "4d027417",
   "metadata": {},
   "outputs": [],
   "source": [
    "mexico.info()"
   ]
  },
  {
   "cell_type": "code",
   "execution_count": null,
   "id": "0e356894",
   "metadata": {},
   "outputs": [],
   "source": [
    "mexico.isnull().sum()"
   ]
  },
  {
   "cell_type": "code",
   "execution_count": null,
   "id": "6f473246",
   "metadata": {},
   "outputs": [],
   "source": [
    "# mexico = Analysis comparing Mexico City with other countries \n",
    "# mexico1= Individual analysis of Mexico City\n",
    "\n",
    "mexico1= mexico"
   ]
  },
  {
   "cell_type": "code",
   "execution_count": null,
   "id": "8b565314",
   "metadata": {
    "scrolled": true
   },
   "outputs": [],
   "source": [
    "mexico= mexico.drop(['ride_age','ride_gender','Bike','end_station_name'], axis=1)\n",
    "mexico.isnull().sum()"
   ]
  },
  {
   "cell_type": "code",
   "execution_count": null,
   "id": "a0224aaf",
   "metadata": {},
   "outputs": [],
   "source": [
    "mexico1= mexico1.dropna(subset=['ride_age'])\n",
    "mexico1.isnull().sum()"
   ]
  },
  {
   "cell_type": "code",
   "execution_count": null,
   "id": "b1842524",
   "metadata": {},
   "outputs": [],
   "source": [
    "mexico['bikes_in_use'] = 1"
   ]
  },
  {
   "cell_type": "markdown",
   "id": "dc9d4194",
   "metadata": {},
   "source": [
    "## Analysis of bicycle use in Mexico City"
   ]
  },
  {
   "cell_type": "markdown",
   "id": "923c4335",
   "metadata": {},
   "source": [
    "#### Gender"
   ]
  },
  {
   "cell_type": "code",
   "execution_count": null,
   "id": "6637e6e4",
   "metadata": {},
   "outputs": [],
   "source": [
    "gender_counts = mexico1['ride_gender'].value_counts()\n",
    "print(f\"Registered genders:\\n{gender_counts}\")"
   ]
  },
  {
   "cell_type": "code",
   "execution_count": null,
   "id": "b3e0282a",
   "metadata": {},
   "outputs": [],
   "source": [
    "plt.figure(figsize=(8, 6))\n",
    "sns.barplot(x=gender_counts.index, y=gender_counts.values, palette='crest')\n",
    "plt.title('Distribution of Rides by Gender')\n",
    "plt.xlabel('Gender')\n",
    "plt.ylabel('Number of Rides')\n",
    "plt.show()"
   ]
  },
  {
   "cell_type": "markdown",
   "id": "a21561d4",
   "metadata": {},
   "source": [
    "#### AGE"
   ]
  },
  {
   "cell_type": "code",
   "execution_count": null,
   "id": "100a304c",
   "metadata": {},
   "outputs": [],
   "source": [
    "print(\"Cyclists age:\")\n",
    "print(mexico1['ride_age'].describe())"
   ]
  },
  {
   "cell_type": "code",
   "execution_count": null,
   "id": "8f2df79d",
   "metadata": {},
   "outputs": [],
   "source": [
    "plt.figure(figsize=(10, 6))\n",
    "plt.hist(mexico1['ride_age'], bins=range(int(mexico1['ride_age'].min()), int(mexico1['ride_age'].max()) + 1, 1), edgecolor='black')\n",
    "plt.title('Distribution of Cyclists\\' Age')\n",
    "plt.xlabel('Age')\n",
    "plt.ylabel('Frequency')\n",
    "plt.grid(axis='y', linestyle='--', alpha=0.7)\n",
    "\n",
    "plt.show()"
   ]
  },
  {
   "cell_type": "markdown",
   "id": "64f131ba",
   "metadata": {},
   "source": [
    "#### Rides by Bike ID"
   ]
  },
  {
   "cell_type": "code",
   "execution_count": null,
   "id": "f9a1fcf4",
   "metadata": {},
   "outputs": [],
   "source": [
    "top_bikes = mexico1['Bike'].value_counts().head(10)\n",
    "\n",
    "top_bikes_data = mexico1[mexico1['Bike'].isin(top_bikes.index)]\n",
    "\n",
    "print(\"Top 10 most used bikes and their details:\")\n",
    "print(top_bikes_data[['ride_gender', 'ride_age', 'Bike', 'start_station_name']])"
   ]
  },
  {
   "cell_type": "code",
   "execution_count": null,
   "id": "f7ec7cc6",
   "metadata": {},
   "outputs": [],
   "source": [
    "plt.barh(top_bikes.index.astype(str), top_bikes.values, color='skyblue', edgecolor='black')\n",
    "plt.title('Top 10 Most Used Bikes')\n",
    "plt.xlabel('Rides')\n",
    "plt.ylabel('Bike ID')\n",
    "plt.grid(axis='x', linestyle='--', alpha=0.7)"
   ]
  },
  {
   "cell_type": "code",
   "execution_count": null,
   "id": "6b41bc5d",
   "metadata": {},
   "outputs": [],
   "source": [
    "sns.boxplot(x='Bike', y='ride_age', data=top_bikes_data, order=top_bikes.index)\n",
    "plt.title('Age Distribution for Top 10 Most Used Bikes')\n",
    "plt.xlabel('Bike ID')\n",
    "plt.ylabel('Age')\n",
    "plt.xticks(rotation=20)\n",
    "plt.show()"
   ]
  },
  {
   "cell_type": "markdown",
   "id": "f53ec662",
   "metadata": {},
   "source": [
    "### Durations of rides"
   ]
  },
  {
   "cell_type": "code",
   "execution_count": null,
   "id": "440e4a08",
   "metadata": {},
   "outputs": [],
   "source": [
    "mexico['start_datetime'] = pd.to_datetime(mexico['date_started'] + ' ' + mexico['time_started'], dayfirst=True)\n",
    "mexico['end_datetime'] = pd.to_datetime(mexico['date_end'] + ' ' + mexico['time_end'], dayfirst=True)"
   ]
  },
  {
   "cell_type": "code",
   "execution_count": null,
   "id": "c852c67a",
   "metadata": {},
   "outputs": [],
   "source": [
    "# Duration in minutes\n",
    "mexico['duration_minutes'] = (mexico['end_datetime'] - mexico['start_datetime']).dt.total_seconds() / 60.0"
   ]
  },
  {
   "cell_type": "code",
   "execution_count": null,
   "id": "bd8a2794",
   "metadata": {},
   "outputs": [],
   "source": [
    "# Normalize duration minutes\n",
    "mexico['duration_minutes_normalized'] = mexico['duration_minutes'] / mexico['duration_minutes'].max()"
   ]
  },
  {
   "cell_type": "code",
   "execution_count": null,
   "id": "04ff1d8d",
   "metadata": {},
   "outputs": [],
   "source": [
    "# Standardize duration minutes\n",
    "scaler = StandardScaler()\n",
    "mexico['duration_minutes_standardized'] = scaler.fit_transform(mexico[['duration_minutes']])"
   ]
  },
  {
   "cell_type": "code",
   "execution_count": null,
   "id": "127289a4",
   "metadata": {},
   "outputs": [],
   "source": [
    "mexico.drop(columns=['start_datetime', 'end_datetime'], inplace=True)"
   ]
  },
  {
   "cell_type": "markdown",
   "id": "65da1d98",
   "metadata": {},
   "source": [
    "# Analysis of the 3 countries "
   ]
  },
  {
   "cell_type": "markdown",
   "id": "5667bc38",
   "metadata": {},
   "source": [
    "Format display of the 3 dataframes to be compared"
   ]
  },
  {
   "cell_type": "code",
   "execution_count": null,
   "id": "07e9dc60",
   "metadata": {},
   "outputs": [],
   "source": [
    "dublin['Country'] = 'Dublin'\n",
    "dublin.head(1)"
   ]
  },
  {
   "cell_type": "code",
   "execution_count": null,
   "id": "465da810",
   "metadata": {
    "scrolled": true
   },
   "outputs": [],
   "source": [
    "ny['Country'] = 'New_York'\n",
    "ny.head(1)"
   ]
  },
  {
   "cell_type": "code",
   "execution_count": null,
   "id": "d97c785b",
   "metadata": {},
   "outputs": [],
   "source": [
    "mexico['Country'] = 'Mexico'\n",
    "mexico.head(1)"
   ]
  },
  {
   "cell_type": "markdown",
   "id": "06c29a7c",
   "metadata": {},
   "source": [
    "#### Data Frame Preparation for Continued Analysis (1st Analysis (3 Countries))"
   ]
  },
  {
   "cell_type": "markdown",
   "id": "e9e5406d",
   "metadata": {},
   "source": [
    "##### Dublin"
   ]
  },
  {
   "cell_type": "code",
   "execution_count": null,
   "id": "caccdf93",
   "metadata": {},
   "outputs": [],
   "source": [
    "Dublin = dublin[['station_id', 'date', 'time', 'bikes_in_use', 'Country']]\n",
    "Dublin.head(1)"
   ]
  },
  {
   "cell_type": "markdown",
   "id": "102286b1",
   "metadata": {},
   "source": [
    "#### New York"
   ]
  },
  {
   "cell_type": "code",
   "execution_count": null,
   "id": "d5095a21",
   "metadata": {},
   "outputs": [],
   "source": [
    "ny.head(1)"
   ]
  },
  {
   "cell_type": "code",
   "execution_count": null,
   "id": "9a1c889c",
   "metadata": {
    "scrolled": true
   },
   "outputs": [],
   "source": [
    "New_York = ny[['start_station_name', 'date_started', 'time_started', 'bikes_in_use', 'Country']]\n",
    "New_York.head(1)"
   ]
  },
  {
   "cell_type": "code",
   "execution_count": null,
   "id": "a147dcec",
   "metadata": {},
   "outputs": [],
   "source": [
    "New_York.rename(columns={\n",
    "    'start_station_name': 'station_id',\n",
    "    'date_started': 'date',\n",
    "    'time_started': 'time'\n",
    "}, inplace=True)"
   ]
  },
  {
   "cell_type": "code",
   "execution_count": null,
   "id": "271747cb",
   "metadata": {},
   "outputs": [],
   "source": [
    "New_York.head(1)"
   ]
  },
  {
   "cell_type": "markdown",
   "id": "861844bb",
   "metadata": {},
   "source": [
    "##### Mexico"
   ]
  },
  {
   "cell_type": "code",
   "execution_count": null,
   "id": "c3eff8f5",
   "metadata": {},
   "outputs": [],
   "source": [
    "Mexico = mexico[['start_station_name', 'date_started', 'time_started', 'bikes_in_use', 'Country']]\n",
    "Mexico.head(1)"
   ]
  },
  {
   "cell_type": "code",
   "execution_count": null,
   "id": "0d5c28fa",
   "metadata": {},
   "outputs": [],
   "source": [
    "Mexico.rename(columns={\n",
    "    'start_station_name': 'station_id',\n",
    "    'date_started': 'date',\n",
    "    'time_started': 'time'\n",
    "}, inplace=True)"
   ]
  },
  {
   "cell_type": "code",
   "execution_count": null,
   "id": "f4bb2f18",
   "metadata": {},
   "outputs": [],
   "source": [
    "Mexico.head(1)"
   ]
  },
  {
   "cell_type": "code",
   "execution_count": null,
   "id": "2b178f7b",
   "metadata": {},
   "outputs": [],
   "source": [
    "Cycling = pd.concat([Dublin, New_York, Mexico], ignore_index=True)"
   ]
  },
  {
   "cell_type": "code",
   "execution_count": null,
   "id": "03e69ecd",
   "metadata": {},
   "outputs": [],
   "source": [
    "Cycling.head()"
   ]
  },
  {
   "cell_type": "code",
   "execution_count": null,
   "id": "d0682fda-6879-4508-9084-fda01eb80015",
   "metadata": {},
   "outputs": [],
   "source": [
    " Cycling.isnull().sum()"
   ]
  },
  {
   "cell_type": "code",
   "execution_count": null,
   "id": "1d466992-1990-4aef-b6ae-0a930d7f7a91",
   "metadata": {},
   "outputs": [],
   "source": [
    "Cycling.to_csv('Cycling.csv', index=True)"
   ]
  },
  {
   "cell_type": "markdown",
   "id": "3b2da717",
   "metadata": {},
   "source": [
    "### Data Frame Preparation for Continued Analysis (2nd Analysis (2 Countries)"
   ]
  },
  {
   "cell_type": "code",
   "execution_count": null,
   "id": "ed8fd94b",
   "metadata": {},
   "outputs": [],
   "source": [
    "mexico.head(1)"
   ]
  },
  {
   "cell_type": "code",
   "execution_count": null,
   "id": "ddf68e21",
   "metadata": {},
   "outputs": [],
   "source": [
    "ny.head(1)"
   ]
  },
  {
   "cell_type": "code",
   "execution_count": null,
   "id": "a26f9bac",
   "metadata": {},
   "outputs": [],
   "source": [
    "Cycling2 = pd.concat([ny, mexico], ignore_index=True)"
   ]
  },
  {
   "cell_type": "code",
   "execution_count": null,
   "id": "34c77be9",
   "metadata": {},
   "outputs": [],
   "source": [
    "Cycling2.head()"
   ]
  },
  {
   "cell_type": "code",
   "execution_count": null,
   "id": "7f87fca9",
   "metadata": {},
   "outputs": [],
   "source": [
    "Cycling2.isnull().sum()"
   ]
  },
  {
   "cell_type": "code",
   "execution_count": null,
   "id": "835a4dd4",
   "metadata": {},
   "outputs": [],
   "source": [
    "Cycling2.to_csv('Cycling2.csv', index=True)"
   ]
  },
  {
   "cell_type": "markdown",
   "id": "d5e5b56c",
   "metadata": {},
   "source": [
    "# Sentiment analysis"
   ]
  },
  {
   "cell_type": "markdown",
   "id": "658f55cc",
   "metadata": {},
   "source": [
    "#### Installation and importing of libraries"
   ]
  },
  {
   "cell_type": "code",
   "execution_count": null,
   "id": "22734796-2342-42f6-9fde-d0d08819b237",
   "metadata": {
    "scrolled": true
   },
   "outputs": [],
   "source": [
    "pip install tensorflow"
   ]
  },
  {
   "cell_type": "code",
   "execution_count": null,
   "id": "b9f30cec",
   "metadata": {
    "scrolled": true
   },
   "outputs": [],
   "source": [
    "!pip install praw\n",
    "!pip install python-dotenv"
   ]
  },
  {
   "cell_type": "code",
   "execution_count": null,
   "id": "6ba6f33c",
   "metadata": {},
   "outputs": [],
   "source": [
    "import re\n",
    "import string\n",
    "from string import punctuation\n",
    "from nltk.corpus import words\n",
    "import nltk\n",
    "\n",
    "from sklearn.model_selection import train_test_split\n",
    "from sklearn.feature_extraction.text import CountVectorizer \n",
    "from sklearn.feature_extraction.text import TfidfTransformer\n",
    "\n",
    "import tensorflow as tf\n",
    "from tensorflow.keras.models import Sequential\n",
    "from tensorflow.keras.layers import Dense, Activation, Dropout\n",
    "from tensorflow.keras.callbacks import EarlyStopping\n",
    "from datetime import datetime as dt\n",
    "\n",
    "import praw\n",
    "from dotenv import load_dotenv\n",
    "from os import getenv\n",
    "nltk.download('vader_lexicon')"
   ]
  },
  {
   "cell_type": "code",
   "execution_count": null,
   "id": "3f6514d5",
   "metadata": {},
   "outputs": [],
   "source": [
    "load_dotenv()"
   ]
  },
  {
   "cell_type": "markdown",
   "id": "1b2c5180",
   "metadata": {},
   "source": [
    "Login to the account using secret credentials using the notepad with the previously saved .env credentials"
   ]
  },
  {
   "cell_type": "code",
   "execution_count": null,
   "id": "4e467352",
   "metadata": {},
   "outputs": [],
   "source": [
    "APP_NAME = os.getenv('APP_NAME')\n",
    "APP_ID = os.getenv('APP_ID')\n",
    "APP_SECRET = os.getenv('APP_SECRET')\n",
    "USERNAME = os.getenv('USERNAME')\n",
    "PASSWORD= os.getenv('PASSWORD')"
   ]
  },
  {
   "cell_type": "code",
   "execution_count": null,
   "id": "22e9d5cc",
   "metadata": {},
   "outputs": [],
   "source": [
    "# Checking of all loaded variables\n",
    "\n",
    "if APP_NAME is None or APP_ID is None or APP_SECRET is None or USERNAME is None or PASSWORD is None:\n",
    "    print(\"ERROR: Some credentials not loaded!\")\n",
    "else:\n",
    "    print(\"Credentials loaded\")"
   ]
  },
  {
   "cell_type": "code",
   "execution_count": null,
   "id": "6fced543",
   "metadata": {},
   "outputs": [],
   "source": [
    "reddit = praw.Reddit(client_id=getenv(\"APP_ID\"),\n",
    "    client_secret=getenv(\"APP_SECRET\"),\n",
    "    user_agent=f\"pda-2023 u/{getenv('USERNAME')}\", \n",
    ")"
   ]
  },
  {
   "cell_type": "code",
   "execution_count": null,
   "id": "0ce0a91b",
   "metadata": {},
   "outputs": [],
   "source": [
    "print(reddit.read_only)"
   ]
  },
  {
   "cell_type": "code",
   "execution_count": null,
   "id": "9f63039b",
   "metadata": {},
   "outputs": [],
   "source": [
    "subreddit = reddit.subreddit(\"Python\")"
   ]
  },
  {
   "cell_type": "code",
   "execution_count": null,
   "id": "9ee943bb",
   "metadata": {},
   "outputs": [],
   "source": [
    "headlines = set()"
   ]
  },
  {
   "cell_type": "markdown",
   "id": "f7986df5",
   "metadata": {},
   "source": [
    "#### Labeling Data"
   ]
  },
  {
   "cell_type": "markdown",
   "id": "0accf12f",
   "metadata": {},
   "source": [
    "Reddit will be searched for comments made in Ireland about cycling"
   ]
  },
  {
   "cell_type": "code",
   "execution_count": null,
   "id": "9ec7b841",
   "metadata": {},
   "outputs": [],
   "source": [
    "from nltk.sentiment.vader import SentimentIntensityAnalyzer as SIA"
   ]
  },
  {
   "cell_type": "code",
   "execution_count": null,
   "id": "423e4aed",
   "metadata": {},
   "outputs": [],
   "source": [
    "# Collecting post titles\n",
    "for submission in reddit.subreddit('ireland').search('cycling'):\n",
    "    headlines.add(submission.title)\n",
    "    print(submission.title)\n",
    "\n",
    "# Applying sentiment analysis \n",
    "sia= SIA()\n",
    "result = []\n",
    "\n",
    "for line in headlines:\n",
    "    pol_score = sia.polarity_scores(line)\n",
    "    pol_score['headlines'] = line\n",
    "    result.append(pol_score)\n",
    "\n",
    "print(result[:3])"
   ]
  },
  {
   "cell_type": "markdown",
   "id": "edc2b2f9",
   "metadata": {},
   "source": [
    "#### Converting the results into a DataFrame"
   ]
  },
  {
   "cell_type": "code",
   "execution_count": null,
   "id": "33a1b2b7",
   "metadata": {},
   "outputs": [],
   "source": [
    "df_ireland = pd.DataFrame.from_records(result)\n",
    "df_ireland.head()"
   ]
  },
  {
   "cell_type": "markdown",
   "id": "c182ac28",
   "metadata": {},
   "source": [
    "#### Converting label to a numerical variable"
   ]
  },
  {
   "cell_type": "markdown",
   "id": "d0fdeaa6",
   "metadata": {},
   "source": [
    "Performing the analysis to see if the words of the comments being analyzed are positive, negative or neutral."
   ]
  },
  {
   "cell_type": "code",
   "execution_count": null,
   "id": "4ff7d9a5",
   "metadata": {},
   "outputs": [],
   "source": [
    "df_ireland['label']=0\n",
    "df_ireland.loc[df_ireland['compound']>0.2,'label']=1\n",
    "df_ireland.loc[df_ireland['compound']<-0.2,'label']=-1\n",
    "df_ireland.head()"
   ]
  },
  {
   "cell_type": "markdown",
   "id": "125dc4f7",
   "metadata": {},
   "source": [
    "#### Dataset Info and Stadistics"
   ]
  },
  {
   "cell_type": "code",
   "execution_count": null,
   "id": "f5b65027",
   "metadata": {},
   "outputs": [],
   "source": [
    "df_ireland2= df_ireland[['headlines','label']]\n",
    "df_ireland2.to_csv('reddit_headline_labels.cvs', mode='a',encoding='utf-8',index=False)"
   ]
  },
  {
   "cell_type": "code",
   "execution_count": null,
   "id": "b32141a5",
   "metadata": {},
   "outputs": [],
   "source": [
    "df_ireland3 = df_ireland2.copy()"
   ]
  },
  {
   "cell_type": "markdown",
   "id": "4d375503",
   "metadata": {},
   "source": [
    "Number of headlines evaluated and whether positive or negative"
   ]
  },
  {
   "cell_type": "code",
   "execution_count": null,
   "id": "110df5ec",
   "metadata": {},
   "outputs": [],
   "source": [
    "print(df_ireland3.label.value_counts())\n",
    "print(df_ireland3.label.value_counts(normalize=True)*100)"
   ]
  },
  {
   "cell_type": "markdown",
   "id": "df1e813a",
   "metadata": {},
   "source": [
    "### Positive and Negative comments"
   ]
  },
  {
   "cell_type": "code",
   "execution_count": null,
   "id": "b2212adf",
   "metadata": {},
   "outputs": [],
   "source": [
    "print(\"Positive headlines:\\n\")\n",
    "print(list(df_ireland2[df_ireland2['label'] == 1]['headlines'])[:5])\n",
    "\n",
    "print(\"\\nNegative headlines:\\n\")\n",
    "print(list(df_ireland2[df_ireland2['label'] == -1]['headlines'])[:5])"
   ]
  },
  {
   "cell_type": "markdown",
   "id": "1623e44a",
   "metadata": {},
   "source": [
    "#### Comments about cycling in Ireland in percentage "
   ]
  },
  {
   "cell_type": "code",
   "execution_count": null,
   "id": "b6f8b07b",
   "metadata": {},
   "outputs": [],
   "source": [
    "df_ireland2['sentiment'] = df_ireland2['label'].map({1: 'Positive', 0: 'Neutral', -1: 'Negative'})\n",
    "\n",
    "# Count the number of each sentiment\n",
    "sentiment_counts = df_ireland2['sentiment'].value_counts()\n",
    "\n",
    "plt.pie(sentiment_counts, labels=sentiment_counts.index, autopct='%1.1f%%', colors=sns.color_palette('viridis', len(sentiment_counts)))\n",
    "plt.title('Comments about cycling %')\n",
    "plt.show()"
   ]
  },
  {
   "cell_type": "markdown",
   "id": "c05114c3",
   "metadata": {},
   "source": [
    "#### Comments about cycling in Ireland in number"
   ]
  },
  {
   "cell_type": "code",
   "execution_count": null,
   "id": "5a263734",
   "metadata": {},
   "outputs": [],
   "source": [
    "sns.barplot(x=sentiment_counts.values, y=sentiment_counts.index, palette='viridis')\n",
    "\n",
    "plt.title('Comments about cycling %')\n",
    "plt.xlabel('Frequency')\n",
    "plt.ylabel('Sentiment')\n",
    "\n",
    "# Show the plot\n",
    "plt.show()"
   ]
  },
  {
   "cell_type": "markdown",
   "id": "d8756458",
   "metadata": {},
   "source": [
    "### Classification"
   ]
  },
  {
   "cell_type": "code",
   "execution_count": null,
   "id": "a356c996",
   "metadata": {},
   "outputs": [],
   "source": [
    "numpy_array = df_ireland3.values\n",
    "X = numpy_array[:,0]\n",
    "Y = numpy_array[:,-1]\n",
    "Y = Y.astype('int')\n",
    "print(\"X\")\n",
    "print(X)\n",
    "print(\"Y\")\n",
    "print(Y)"
   ]
  },
  {
   "cell_type": "markdown",
   "id": "3eac93fb",
   "metadata": {},
   "source": [
    "#### Vectorization of words"
   ]
  },
  {
   "cell_type": "code",
   "execution_count": null,
   "id": "2475796b",
   "metadata": {},
   "outputs": [],
   "source": [
    "vec = CountVectorizer( )\n",
    "vec"
   ]
  },
  {
   "cell_type": "code",
   "execution_count": null,
   "id": "35f2d1f7",
   "metadata": {},
   "outputs": [],
   "source": [
    "vec.fit(X)\n",
    "vec.vocabulary_"
   ]
  },
  {
   "cell_type": "markdown",
   "id": "6487a844",
   "metadata": {},
   "source": [
    "It has converted the documents into a set of unique words alphabetically sorted and indexed."
   ]
  },
  {
   "cell_type": "markdown",
   "id": "2b6dd10a",
   "metadata": {},
   "source": [
    "#### Removing the stop words"
   ]
  },
  {
   "cell_type": "code",
   "execution_count": null,
   "id": "99c5fbcc",
   "metadata": {},
   "outputs": [],
   "source": [
    "vec = CountVectorizer(stop_words='english' )\n",
    "vec.fit(X)\n",
    "vec.vocabulary_"
   ]
  },
  {
   "cell_type": "markdown",
   "id": "e312d27a",
   "metadata": {},
   "source": [
    "#### Another way of representing the features"
   ]
  },
  {
   "cell_type": "code",
   "execution_count": null,
   "id": "3fe4cc59",
   "metadata": {},
   "outputs": [],
   "source": [
    "X_transformed=vec.transform(X)\n",
    "X_transformed"
   ]
  },
  {
   "cell_type": "code",
   "execution_count": null,
   "id": "1379cc7d",
   "metadata": {
    "scrolled": true
   },
   "outputs": [],
   "source": [
    "print(X_transformed)"
   ]
  },
  {
   "cell_type": "markdown",
   "id": "2d70aad2",
   "metadata": {},
   "source": [
    "This representation can be understood as follows:\n",
    "\n",
    "  (0, 7)\t1\n",
    "  (0, 39)\t1\n",
    "  (0, 44)\t1\n",
    "  (0, 82)\t1\n",
    "\n",
    "\n",
    "Consider first 4 rows of the output: It says that the first document (index 0) has 7th, 39th , 44th , 82nd and so on 'word' present in the document, and that they appear only once in the document- indicated by the right hand column entry, and the in the same way the details of the 99 documents."
   ]
  },
  {
   "cell_type": "markdown",
   "id": "73c3c6f6",
   "metadata": {},
   "source": [
    "#### Another interpretable array, converting transformed matrix back to an array."
   ]
  },
  {
   "cell_type": "code",
   "execution_count": null,
   "id": "51a71673",
   "metadata": {},
   "outputs": [],
   "source": [
    "# The high number of zeros\n",
    "X=X_transformed.toarray()\n",
    "X"
   ]
  },
  {
   "cell_type": "code",
   "execution_count": null,
   "id": "b8ff2036",
   "metadata": {},
   "outputs": [],
   "source": [
    "# converting matrix to dataframe\n",
    "dfdublin = pd.DataFrame(X, columns=vec.vocabulary_)\n",
    "pd.DataFrame(X, columns=vec.vocabulary_)"
   ]
  },
  {
   "cell_type": "markdown",
   "id": "890bf95a",
   "metadata": {},
   "source": [
    "This table shows how many times a particular word occurs in document. In other words, this is a frequency table of the words."
   ]
  },
  {
   "cell_type": "markdown",
   "id": "f0835db8",
   "metadata": {},
   "source": [
    "#### Top 20 most Frequent Words"
   ]
  },
  {
   "cell_type": "code",
   "execution_count": null,
   "id": "7ec13244",
   "metadata": {},
   "outputs": [],
   "source": [
    "dfdublin = pd.DataFrame(X, columns=vec.get_feature_names_out())"
   ]
  },
  {
   "cell_type": "code",
   "execution_count": null,
   "id": "f325bfb8",
   "metadata": {},
   "outputs": [],
   "source": [
    "word_freq = dfdublin.sum().sort_values(ascending=False)\n",
    "\n",
    "# Frequency \n",
    "word_freq_df = pd.DataFrame({'word': word_freq.index, 'frequency': word_freq.values})\n",
    "\n",
    "#Top 20\n",
    "top_words_df = word_freq_df.head(20)\n",
    "\n",
    "plt.figure(figsize=(12, 8))\n",
    "sns.barplot(x='frequency', y='word', data=top_words_df, palette='viridis')\n",
    "plt.title('Top 20 Most Frequent Words')\n",
    "plt.xlabel('Frequency')\n",
    "plt.ylabel('Word')\n",
    "plt.show()"
   ]
  },
  {
   "cell_type": "markdown",
   "id": "088acdc4",
   "metadata": {},
   "source": [
    "### Word frequency"
   ]
  },
  {
   "cell_type": "markdown",
   "id": "fe9f4f0e",
   "metadata": {},
   "source": [
    "Plot the word cloud for all the key words without prepocessing it"
   ]
  },
  {
   "cell_type": "code",
   "execution_count": null,
   "id": "54bbddb2",
   "metadata": {},
   "outputs": [],
   "source": [
    "pip install wordcloud"
   ]
  },
  {
   "cell_type": "code",
   "execution_count": null,
   "id": "2540cccb",
   "metadata": {},
   "outputs": [],
   "source": [
    "from wordcloud import WordCloud "
   ]
  },
  {
   "cell_type": "code",
   "execution_count": null,
   "id": "09c15fff",
   "metadata": {
    "scrolled": true
   },
   "outputs": [],
   "source": [
    "wordcloud = WordCloud(random_state=21, max_font_size=119, background_color='white').generate_from_frequencies(word_freq)\n",
    "\n",
    "plt.figure(figsize=(19, 5))\n",
    "plt.imshow(wordcloud, interpolation='bilinear')\n",
    "plt.axis('off')\n",
    "plt.show()"
   ]
  },
  {
   "cell_type": "code",
   "execution_count": null,
   "id": "45207f3e",
   "metadata": {},
   "outputs": [],
   "source": [
    "dfdublin"
   ]
  },
  {
   "cell_type": "markdown",
   "id": "46b640b3",
   "metadata": {},
   "source": [
    "### TEST"
   ]
  },
  {
   "cell_type": "code",
   "execution_count": null,
   "id": "7577e4f2",
   "metadata": {},
   "outputs": [],
   "source": [
    "test_numpy_array = df_ireland3.values\n",
    "X_test = test_numpy_array[:,0]\n",
    "Y_test = test_numpy_array[:,1]\n",
    "Y_test = Y_test.astype('int')\n",
    "print(\"X_test\")\n",
    "print(X_test)\n",
    "print(\"Y_test\")\n",
    "print(Y_test)"
   ]
  },
  {
   "cell_type": "code",
   "execution_count": null,
   "id": "36af2274",
   "metadata": {},
   "outputs": [],
   "source": [
    "X_test_transformed=vec.transform(X_test)\n",
    "X_test_transformed"
   ]
  },
  {
   "cell_type": "code",
   "execution_count": null,
   "id": "47cbe753",
   "metadata": {},
   "outputs": [],
   "source": [
    "X_test=X_test_transformed.toarray()\n",
    "X_test"
   ]
  },
  {
   "cell_type": "markdown",
   "id": "aaee788c",
   "metadata": {},
   "source": [
    "### Bernoulli Naive Bayes"
   ]
  },
  {
   "cell_type": "code",
   "execution_count": null,
   "id": "24521dc3",
   "metadata": {},
   "outputs": [],
   "source": [
    "from sklearn.naive_bayes import BernoulliNB\n",
    "from sklearn.metrics import confusion_matrix"
   ]
  },
  {
   "cell_type": "code",
   "execution_count": null,
   "id": "491670e6",
   "metadata": {},
   "outputs": [],
   "source": [
    "# Bernoulli NB class\n",
    "bnb=BernoulliNB()\n",
    "\n",
    "# fitting model\n",
    "bnb.fit(X,Y)\n",
    "\n",
    "# Predicting probability of test data\n",
    "bnb.predict_proba(X_test)\n",
    "proba_bnb=bnb.predict_proba(X_test)"
   ]
  },
  {
   "cell_type": "code",
   "execution_count": null,
   "id": "a31c4de8",
   "metadata": {},
   "outputs": [],
   "source": [
    "proba_df = pd.DataFrame(proba_bnb, columns=['Negative','Neutral','Positive'])\n",
    "pd.DataFrame(proba_bnb, columns=['Negative','Neutral','Positive'])"
   ]
  },
  {
   "cell_type": "markdown",
   "id": "10d768e6",
   "metadata": {},
   "source": [
    "#### Prediction"
   ]
  },
  {
   "cell_type": "code",
   "execution_count": null,
   "id": "3593dc06",
   "metadata": {},
   "outputs": [],
   "source": [
    "y_pred_bnb = bnb.predict(X_test)\n",
    "\n",
    "predictions_df = proba_df.copy()\n",
    "predictions_df['Predicted Class'] = y_pred_bnb"
   ]
  },
  {
   "cell_type": "code",
   "execution_count": null,
   "id": "ad18970c",
   "metadata": {},
   "outputs": [],
   "source": [
    "X_train, X_test, Y_train, Y_test = train_test_split(X, Y, test_size=0.2, random_state=42)\n",
    "y_test = Y_test"
   ]
  },
  {
   "cell_type": "markdown",
   "id": "edfae52b",
   "metadata": {},
   "source": [
    "Confusion_matrix"
   ]
  },
  {
   "cell_type": "code",
   "execution_count": null,
   "id": "89250b32",
   "metadata": {},
   "outputs": [],
   "source": [
    "y_pred_bnb = bnb.predict(X_test)\n",
    "\n",
    "conf_matrix = confusion_matrix(y_test, y_pred_bnb)\n",
    "\n",
    "print(conf_matrix)"
   ]
  },
  {
   "cell_type": "code",
   "execution_count": null,
   "id": "3f609da5",
   "metadata": {},
   "outputs": [],
   "source": [
    "class_names = ['Negative', 'Neutral', 'Positive']\n",
    "sns.heatmap(conf_matrix, annot=True, fmt='d', cmap='Blues',\n",
    "            xticklabels=class_names,\n",
    "            yticklabels=class_names)\n",
    "plt.xlabel('Predicted')\n",
    "plt.ylabel('True')\n",
    "plt.title('Confusion Matrix')\n",
    "plt.show()"
   ]
  }
 ],
 "metadata": {
  "kernelspec": {
   "display_name": "Python 3 (ipykernel)",
   "language": "python",
   "name": "python3"
  },
  "language_info": {
   "codemirror_mode": {
    "name": "ipython",
    "version": 3
   },
   "file_extension": ".py",
   "mimetype": "text/x-python",
   "name": "python",
   "nbconvert_exporter": "python",
   "pygments_lexer": "ipython3",
   "version": "3.11.4"
  }
 },
 "nbformat": 4,
 "nbformat_minor": 5
}
