{
 "cells": [
  {
   "cell_type": "markdown",
   "id": "9871ec55",
   "metadata": {},
   "source": [
    "# Assessment Title: Cycling "
   ]
  },
  {
   "cell_type": "markdown",
   "id": "9326e546",
   "metadata": {},
   "source": [
    "Analyzing Ireland's Cycling Data and Comparing It with Mexico's and New York's"
   ]
  },
  {
   "cell_type": "code",
   "execution_count": null,
   "id": "4bfd3f0c",
   "metadata": {},
   "outputs": [],
   "source": [
    "pip install matplotlib"
   ]
  },
  {
   "cell_type": "code",
   "execution_count": null,
   "id": "b58f5988",
   "metadata": {},
   "outputs": [],
   "source": [
    "import matplotlib.pyplot as plt\n",
    "import matplotlib.image as mpimg\n",
    "import matplotlib.pyplot as plt\n",
    "import numpy as np\n",
    "import pandas as pd\n",
    "from matplotlib.colors import ListedColormap\n",
    "import warnings\n",
    "warnings.simplefilter(action='ignore', category=FutureWarning)"
   ]
  },
  {
   "cell_type": "code",
   "execution_count": null,
   "id": "887f0979",
   "metadata": {},
   "outputs": [],
   "source": [
    "img = mpimg.imread('bike.jpg')\n",
    "imgplot = plt.imshow(img)\n",
    "plt.axis('off')\n",
    "plt.show()"
   ]
  },
  {
   "cell_type": "markdown",
   "id": "4e59ff46",
   "metadata": {},
   "source": [
    "Main libraries"
   ]
  },
  {
   "cell_type": "code",
   "execution_count": null,
   "id": "fc7d089b",
   "metadata": {},
   "outputs": [],
   "source": [
    "import seaborn as sns\n",
    "import pandas as pd\n",
    "import numpy as np"
   ]
  },
  {
   "cell_type": "markdown",
   "id": "c19a4b3e",
   "metadata": {},
   "source": [
    "# DUBLIN "
   ]
  },
  {
   "cell_type": "markdown",
   "id": "417b08c5",
   "metadata": {
    "slideshow": {
     "slide_type": "slide"
    }
   },
   "source": [
    "Import of raw data and data cleaning "
   ]
  },
  {
   "cell_type": "code",
   "execution_count": null,
   "id": "5efc34e0",
   "metadata": {},
   "outputs": [],
   "source": [
    "dublin1= pd.read_csv('dublin1.csv')\n",
    "dublin2= pd.read_csv('dublin2.csv')"
   ]
  },
  {
   "cell_type": "code",
   "execution_count": null,
   "id": "0a4debc0",
   "metadata": {},
   "outputs": [],
   "source": [
    "dublin1.head(1)"
   ]
  },
  {
   "cell_type": "code",
   "execution_count": null,
   "id": "d4d5e146",
   "metadata": {
    "scrolled": true
   },
   "outputs": [],
   "source": [
    "dublin2.head(1)"
   ]
  },
  {
   "cell_type": "code",
   "execution_count": null,
   "id": "48abfde7",
   "metadata": {},
   "outputs": [],
   "source": [
    "# headers of each file\n",
    "headers_dublin1 = dublin1.columns\n",
    "headers_dublin2 = dublin2.columns\n",
    "\n",
    "# Comparing the headers\n",
    "if list(headers_dublin1) == list(headers_dublin2):\n",
    "    print(\"The datasets have the same headers.\")\n",
    "else:\n",
    "    print(\"The datasets have different headers.\")"
   ]
  },
  {
   "cell_type": "markdown",
   "id": "9bdaddbd",
   "metadata": {},
   "source": [
    "Since they have the same headers they will be concatenated to have only one dataset "
   ]
  },
  {
   "cell_type": "code",
   "execution_count": null,
   "id": "8e664f74",
   "metadata": {},
   "outputs": [],
   "source": [
    "dublin = pd.concat([dublin1, dublin2])\n",
    "dublin.head(3)"
   ]
  },
  {
   "cell_type": "markdown",
   "id": "a50f7d73",
   "metadata": {},
   "source": [
    "### Exploratory Data Analysis (EDA)"
   ]
  },
  {
   "cell_type": "code",
   "execution_count": null,
   "id": "386ba835",
   "metadata": {},
   "outputs": [],
   "source": [
    "dublin.shape"
   ]
  },
  {
   "cell_type": "code",
   "execution_count": null,
   "id": "8f6b801d",
   "metadata": {},
   "outputs": [],
   "source": [
    "dublin.info()"
   ]
  },
  {
   "cell_type": "code",
   "execution_count": null,
   "id": "0267b9f3",
   "metadata": {},
   "outputs": [],
   "source": [
    "dublin.isnull().sum()"
   ]
  },
  {
   "cell_type": "code",
   "execution_count": null,
   "id": "0b149462",
   "metadata": {},
   "outputs": [],
   "source": [
    "dublin['system_id'].value_counts()"
   ]
  },
  {
   "cell_type": "code",
   "execution_count": null,
   "id": "23a240df",
   "metadata": {},
   "outputs": [],
   "source": [
    "dublin['is_installed'].value_counts()"
   ]
  },
  {
   "cell_type": "code",
   "execution_count": null,
   "id": "ed801e1e",
   "metadata": {},
   "outputs": [],
   "source": [
    "dublin['is_renting'].value_counts()"
   ]
  },
  {
   "cell_type": "code",
   "execution_count": null,
   "id": "2b9dfb20",
   "metadata": {},
   "outputs": [],
   "source": [
    "dublin['is_returning'].value_counts()"
   ]
  },
  {
   "cell_type": "code",
   "execution_count": null,
   "id": "276337bb",
   "metadata": {},
   "outputs": [],
   "source": [
    "dublin= dublin.drop(['short_name', 'region_id','system_id','is_installed','is_renting','is_returning'], axis=1)"
   ]
  },
  {
   "cell_type": "code",
   "execution_count": null,
   "id": "c63c41bc",
   "metadata": {},
   "outputs": [],
   "source": [
    "dublin.describe()"
   ]
  },
  {
   "cell_type": "markdown",
   "id": "bd67c95d",
   "metadata": {},
   "source": [
    "#### Date and time format change "
   ]
  },
  {
   "cell_type": "code",
   "execution_count": null,
   "id": "78291e65",
   "metadata": {},
   "outputs": [],
   "source": [
    "dublin['last_reported'] = pd.to_datetime(dublin['last_reported'])"
   ]
  },
  {
   "cell_type": "code",
   "execution_count": null,
   "id": "b5cc2c07",
   "metadata": {},
   "outputs": [],
   "source": [
    "# Creating new columns 'date' and 'time' \n",
    "dublin['date'] = dublin['last_reported'].dt.date\n",
    "dublin['time'] = dublin['last_reported'].dt.time"
   ]
  },
  {
   "cell_type": "code",
   "execution_count": null,
   "id": "6e16c14e",
   "metadata": {},
   "outputs": [],
   "source": [
    "dublin= dublin.drop('last_reported', axis=1)"
   ]
  },
  {
   "cell_type": "markdown",
   "id": "b4d4c4c9",
   "metadata": {},
   "source": [
    "#### Period of time "
   ]
  },
  {
   "cell_type": "code",
   "execution_count": null,
   "id": "28dca601",
   "metadata": {},
   "outputs": [],
   "source": [
    "min_date = dublin['date'].min()\n",
    "max_date = dublin['date'].max()\n",
    "\n",
    "print(\"The 'date' column ranges from {} to {}.\".format(min_date, max_date))"
   ]
  },
  {
   "cell_type": "code",
   "execution_count": null,
   "id": "077475e0",
   "metadata": {},
   "outputs": [],
   "source": [
    "dublin.head(1)"
   ]
  },
  {
   "cell_type": "code",
   "execution_count": null,
   "id": "a07fa65d",
   "metadata": {},
   "outputs": [],
   "source": [
    "dublin= dublin.drop('address', axis=1)"
   ]
  },
  {
   "cell_type": "markdown",
   "id": "041402bb",
   "metadata": {},
   "source": [
    "## Analysis of bicycle use in Dublin"
   ]
  },
  {
   "cell_type": "markdown",
   "id": "a10b8c3e",
   "metadata": {},
   "source": [
    "### Bikes available"
   ]
  },
  {
   "cell_type": "code",
   "execution_count": null,
   "id": "478859dc",
   "metadata": {},
   "outputs": [],
   "source": [
    "print(\"Descriptive statistics for number of bikes available:\")\n",
    "print(dublin['num_bikes_available'].describe())"
   ]
  },
  {
   "cell_type": "code",
   "execution_count": null,
   "id": "6718e00b",
   "metadata": {},
   "outputs": [],
   "source": [
    "sns.boxplot(x=dublin['num_bikes_available'], color='skyblue')\n",
    "plt.title('Number of Bikes Available')\n",
    "plt.xlabel('Number of Bikes Available')\n",
    "plt.grid(True, linestyle='--', alpha=0.7)\n",
    "plt.show()"
   ]
  },
  {
   "cell_type": "markdown",
   "id": "d21c52ed",
   "metadata": {},
   "source": [
    "The mean number of bicycles available per docks is 11 bicycles per station. "
   ]
  },
  {
   "cell_type": "markdown",
   "id": "c455b11b",
   "metadata": {},
   "source": [
    "### Stations"
   ]
  },
  {
   "cell_type": "code",
   "execution_count": null,
   "id": "9c3eab26",
   "metadata": {},
   "outputs": [],
   "source": [
    "stations = dublin['station_id'].nunique()\n",
    "print(f\"Total number of stations: {stations}\")"
   ]
  },
  {
   "cell_type": "code",
   "execution_count": null,
   "id": "6f18d5bb",
   "metadata": {},
   "outputs": [],
   "source": [
    "#Stations with Highest bike availability\n",
    "top_stations = dublin.groupby('name')['num_bikes_available'].mean().sort_values(ascending=False)\n",
    "print(\"Stations with highest bike availability:\")\n",
    "print(top_stations.head(10))"
   ]
  },
  {
   "cell_type": "code",
   "execution_count": null,
   "id": "78188924",
   "metadata": {},
   "outputs": [],
   "source": [
    "# Stations with lowest bike availability\n",
    "print(\"Stations with lowest bike availability:\")\n",
    "print(top_stations.tail(10))"
   ]
  },
  {
   "cell_type": "code",
   "execution_count": null,
   "id": "d4d3f4d5",
   "metadata": {},
   "outputs": [],
   "source": [
    "top_10_stations = top_stations.head(10)\n",
    "\n",
    "plt.figure(figsize=(9, 6))\n",
    "top_10_stations.plot(kind='bar', color='pink')\n",
    "\n",
    "\n",
    "plt.title('Top 10 Stations by Average Number of Bikes Available',fontsize=13)\n",
    "plt.xlabel('Station')\n",
    "plt.ylabel('Average Number of Bikes Available')\n",
    "plt.xticks(rotation=20, fontsize=6) \n",
    "\n",
    "\n",
    "plt.tight_layout()  \n",
    "plt.show()"
   ]
  },
  {
   "cell_type": "markdown",
   "id": "16394c68",
   "metadata": {},
   "source": [
    "## Location of stations with dataset information"
   ]
  },
  {
   "cell_type": "markdown",
   "id": "220bd14d",
   "metadata": {},
   "source": [
    "### Scatter plot"
   ]
  },
  {
   "cell_type": "code",
   "execution_count": null,
   "id": "83b8d4b4",
   "metadata": {},
   "outputs": [],
   "source": [
    "import plotly.express as px\n",
    "import plotly.io as pio\n",
    "\n",
    "pio.templates.default = \"plotly\""
   ]
  },
  {
   "cell_type": "code",
   "execution_count": null,
   "id": "707d8510",
   "metadata": {},
   "outputs": [],
   "source": [
    "fig = px.scatter(\n",
    "    dublin,\n",
    "    x='lon',\n",
    "    y='lat',\n",
    "    size='capacity',\n",
    "    color='capacity',\n",
    "    hover_name='name',\n",
    "    hover_data={\n",
    "        'station_id': True,\n",
    "        'num_bikes_available': True,\n",
    "        'num_docks_available': True,\n",
    "        'date': True,\n",
    "        'time': True\n",
    "    },\n",
    "    size_max=60,\n",
    "    title='Bike Station Capacity',\n",
    "    labels={'capacity': 'Bike Station Capacity'}\n",
    ")\n",
    "\n",
    "# layout \n",
    "fig.update_layout(\n",
    "    xaxis_title='Longitude',\n",
    "    yaxis_title='Latitude',\n",
    "    title_font_size=14,\n",
    "    xaxis_title_font_size=12,\n",
    "    yaxis_title_font_size=12,\n",
    "    coloraxis_colorbar_title='Capacity'\n",
    ")\n",
    "\n",
    "fig.show()"
   ]
  },
  {
   "cell_type": "markdown",
   "id": "1b21921d",
   "metadata": {},
   "source": [
    "## Location of stations using an API "
   ]
  },
  {
   "cell_type": "code",
   "execution_count": null,
   "id": "f433d5a6",
   "metadata": {},
   "outputs": [],
   "source": [
    "!pip install requests"
   ]
  },
  {
   "cell_type": "code",
   "execution_count": null,
   "id": "33d97476",
   "metadata": {},
   "outputs": [],
   "source": [
    "import requests\n",
    "import json"
   ]
  },
  {
   "cell_type": "code",
   "execution_count": null,
   "id": "f9eccb36",
   "metadata": {},
   "outputs": [],
   "source": [
    "api_key = '5c20182a11586d9a8e24446b2d69e8c33ff0948c'\n",
    "contract_name = 'Irelandbikes'"
   ]
  },
  {
   "cell_type": "code",
   "execution_count": null,
   "id": "31248bf9",
   "metadata": {},
   "outputs": [],
   "source": [
    "# Defining the API URL\n",
    "url = f'https://api.jcdecaux.com/vls/v1/stations?contract={contract_name}&apiKey={api_key}'"
   ]
  },
  {
   "cell_type": "code",
   "execution_count": null,
   "id": "5c585829",
   "metadata": {},
   "outputs": [],
   "source": [
    "response = requests.get(url)"
   ]
  },
  {
   "cell_type": "markdown",
   "id": "8c73cc77",
   "metadata": {},
   "source": [
    "Since JCDecaux has different contracts in various locations around the world, to obtain accurate information, the contract locations must first be checked to access it."
   ]
  },
  {
   "cell_type": "code",
   "execution_count": null,
   "id": "ca6a4515",
   "metadata": {},
   "outputs": [],
   "source": [
    "# API's Key\n",
    "api_key = '5c20182a11586d9a8e24446b2d69e8c33ff0948c'\n",
    "\n",
    "# Defining URL \n",
    "contracts_url = f'https://api.jcdecaux.com/vls/v1/contracts?apiKey={api_key}'\n",
    "\n",
    "contracts_response = requests.get(contracts_url)\n",
    "\n",
    "# Checking if the request was successful\n",
    "if contracts_response.status_code == 200:\n",
    "    contracts_data = contracts_response.json()\n",
    "    # Contracts\n",
    "    for contract in contracts_data:\n",
    "        print(contract['name'])\n",
    "else:\n",
    "    print(f'Error: {contracts_response.status_code}')"
   ]
  },
  {
   "cell_type": "code",
   "execution_count": null,
   "id": "876dd5d7",
   "metadata": {},
   "outputs": [],
   "source": [
    "# Defining API and contract's name\n",
    "api_key = '5c20182a11586d9a8e24446b2d69e8c33ff0948c'\n",
    "contract_name = 'Dublin'\n",
    "\n",
    "url = 'https://api.jcdecaux.com/vls/v1/stations'\n",
    "\n",
    "# Making the request to the API\n",
    "params = {\n",
    "    'contract': contract_name,\n",
    "    'apiKey': api_key\n",
    "}\n",
    "\n",
    "response = requests.get(url, params=params)\n",
    "\n",
    "# Verification    \n",
    "data = response.json()\n",
    "if response.status_code == 200:\n",
    "        print('The request was successful.')\n",
    "else:\n",
    "    print('The request was not successful.')"
   ]
  },
  {
   "cell_type": "code",
   "execution_count": null,
   "id": "faceda99",
   "metadata": {},
   "outputs": [],
   "source": [
    "dublin2 = pd.DataFrame(data)\n",
    "dublin2.head(2)"
   ]
  },
  {
   "cell_type": "code",
   "execution_count": null,
   "id": "83a79531",
   "metadata": {},
   "outputs": [],
   "source": [
    "pip install folium"
   ]
  },
  {
   "cell_type": "code",
   "execution_count": null,
   "id": "7218de0b",
   "metadata": {},
   "outputs": [],
   "source": [
    "import folium\n",
    "\n",
    "def create_station_map(dublin2):\n",
    "    # Create a map centered on Dublin\n",
    "    dublin_map = folium.Map(location=[53.3498, -6.2603], zoom_start=13)\n",
    "    \n",
    "    # Iterate over the rows of the DataFrame\n",
    "    for index, row in dublin2.iterrows():\n",
    "        # Get the position \n",
    "        lat = row['position']['lat']\n",
    "        lng = row['position']['lng']\n",
    "        station_name = row['name']\n",
    "        \n",
    "        # Add a marker to the map\n",
    "        folium.Marker([lat, lng], popup=station_name).add_to(dublin_map)\n",
    "    \n",
    "    # Display the map\n",
    "    display(dublin_map)\n",
    "\n",
    "create_station_map(dublin2)"
   ]
  },
  {
   "cell_type": "markdown",
   "id": "56162ee4",
   "metadata": {},
   "source": [
    "# NEW YORK"
   ]
  },
  {
   "cell_type": "markdown",
   "id": "21ab7a12",
   "metadata": {},
   "source": [
    "Import of raw data and data cleaning "
   ]
  },
  {
   "cell_type": "code",
   "execution_count": null,
   "id": "50946e3f",
   "metadata": {},
   "outputs": [],
   "source": [
    "ny = pd.read_csv('NY1.csv')"
   ]
  },
  {
   "cell_type": "code",
   "execution_count": null,
   "id": "be884e4e",
   "metadata": {},
   "outputs": [],
   "source": [
    "dublin.head(1)"
   ]
  },
  {
   "cell_type": "code",
   "execution_count": null,
   "id": "25e14fcf",
   "metadata": {},
   "outputs": [],
   "source": [
    "ny.head(3)"
   ]
  },
  {
   "cell_type": "code",
   "execution_count": null,
   "id": "9b3cf598",
   "metadata": {},
   "outputs": [],
   "source": [
    "ny.info()"
   ]
  },
  {
   "cell_type": "code",
   "execution_count": null,
   "id": "6c6014fe",
   "metadata": {
    "scrolled": true
   },
   "outputs": [],
   "source": [
    "ny.isnull().sum()"
   ]
  },
  {
   "cell_type": "code",
   "execution_count": null,
   "id": "a7fa49ef",
   "metadata": {},
   "outputs": [],
   "source": [
    "ny= ny.drop(['ride_id','start_station_id', 'end_station_id'], axis=1)"
   ]
  },
  {
   "cell_type": "markdown",
   "id": "93b2ba1a",
   "metadata": {},
   "source": [
    "#### Null field"
   ]
  },
  {
   "cell_type": "markdown",
   "id": "4a2dab3a",
   "metadata": {},
   "source": [
    "start_station_name "
   ]
  },
  {
   "cell_type": "code",
   "execution_count": null,
   "id": "f7e7fb20",
   "metadata": {},
   "outputs": [],
   "source": [
    "empty_name = ny[ny['start_station_name'].isnull()]\n",
    "empty_name"
   ]
  },
  {
   "cell_type": "code",
   "execution_count": null,
   "id": "f5cd6908",
   "metadata": {},
   "outputs": [],
   "source": [
    "lat = ny[ny['start_lat'] == 40.71]\n",
    "lat"
   ]
  },
  {
   "cell_type": "code",
   "execution_count": null,
   "id": "e2c0f7d2",
   "metadata": {},
   "outputs": [],
   "source": [
    "ny['start_station_name'] = ny['start_station_name'].fillna('other')"
   ]
  },
  {
   "cell_type": "markdown",
   "id": "1c575a06",
   "metadata": {},
   "source": [
    "#### Date and time format change"
   ]
  },
  {
   "cell_type": "code",
   "execution_count": null,
   "id": "2ea81092",
   "metadata": {},
   "outputs": [],
   "source": [
    "ny['started_at'] = pd.to_datetime(ny['started_at'], format='%d/%m/%Y %H:%M')\n",
    "ny['ended_at'] = pd.to_datetime(ny['ended_at'], format='%d/%m/%Y %H:%M')"
   ]
  },
  {
   "cell_type": "code",
   "execution_count": null,
   "id": "94c206ef",
   "metadata": {},
   "outputs": [],
   "source": [
    "# Extracting date and time\n",
    "ny['date_started'] = ny['started_at'].dt.date\n",
    "ny['date_end'] = ny['ended_at'].dt.date\n",
    "ny['time_started'] = ny['started_at'].dt.time\n",
    "ny['time_end'] = ny['ended_at'].dt.time"
   ]
  },
  {
   "cell_type": "code",
   "execution_count": null,
   "id": "1e52066e",
   "metadata": {},
   "outputs": [],
   "source": [
    "ny.head(2)"
   ]
  },
  {
   "cell_type": "code",
   "execution_count": null,
   "id": "97216399",
   "metadata": {},
   "outputs": [],
   "source": [
    "ny['date_started'] = ny['date_started'].astype(str)\n",
    "ny['time_started'] = ny['time_started'].astype(str)\n",
    "ny['date_end'] = ny['date_end'].astype(str)\n",
    "ny['time_end'] = ny['time_end'].astype(str)"
   ]
  },
  {
   "cell_type": "code",
   "execution_count": null,
   "id": "0c26a309",
   "metadata": {},
   "outputs": [],
   "source": [
    "ny['duration_minutes'] = (ny['ended_at'] - ny['started_at']).astype('timedelta64[m]')"
   ]
  },
  {
   "cell_type": "markdown",
   "id": "5a26fc08",
   "metadata": {},
   "source": [
    "#### Duration of each ride"
   ]
  },
  {
   "cell_type": "code",
   "execution_count": null,
   "id": "9bc91594",
   "metadata": {},
   "outputs": [],
   "source": [
    "ny['duration'] = ny['ended_at'] - ny['started_at']\n",
    "\n",
    "# In minutes\n",
    "ny['duration_minutes'] = ny['duration'].dt.total_seconds() / 60\n",
    "ny['duration_minutes'] = ny['duration_minutes'].round(2)\n",
    "\n",
    "ny = ny.drop('duration', axis=1)"
   ]
  },
  {
   "cell_type": "code",
   "execution_count": null,
   "id": "3b952494",
   "metadata": {},
   "outputs": [],
   "source": [
    "ny= ny.drop(['started_at','ended_at'], axis=1)"
   ]
  },
  {
   "cell_type": "code",
   "execution_count": null,
   "id": "1e3250f6",
   "metadata": {},
   "outputs": [],
   "source": [
    "ny.head(1)"
   ]
  },
  {
   "cell_type": "code",
   "execution_count": null,
   "id": "d1397ce2",
   "metadata": {},
   "outputs": [],
   "source": [
    "ny.isnull().sum()"
   ]
  },
  {
   "cell_type": "code",
   "execution_count": null,
   "id": "50f7f72f",
   "metadata": {},
   "outputs": [],
   "source": [
    "# NY = Individual analysis of New York\n",
    "# ny = Analysis comparing New York with other countries \n",
    "\n",
    "NY= ny"
   ]
  },
  {
   "cell_type": "code",
   "execution_count": null,
   "id": "1615ebbb",
   "metadata": {},
   "outputs": [],
   "source": [
    "NY= NY.dropna(subset=['end_lat', 'end_lng','end_station_name'])\n",
    "NY.isnull().sum()"
   ]
  },
  {
   "cell_type": "code",
   "execution_count": null,
   "id": "3507546c",
   "metadata": {},
   "outputs": [],
   "source": [
    "ny= ny.drop(['rideable_type','end_lat','end_lng','member_casual','end_station_name'], axis=1)\n",
    "ny.isnull().sum()"
   ]
  },
  {
   "cell_type": "code",
   "execution_count": null,
   "id": "aafadfaa",
   "metadata": {},
   "outputs": [],
   "source": [
    "ny.dtypes"
   ]
  },
  {
   "cell_type": "code",
   "execution_count": null,
   "id": "3f83ae8a",
   "metadata": {},
   "outputs": [],
   "source": [
    "ny.describe()"
   ]
  },
  {
   "cell_type": "code",
   "execution_count": null,
   "id": "612d1738",
   "metadata": {},
   "outputs": [],
   "source": [
    "ny.shape"
   ]
  },
  {
   "cell_type": "markdown",
   "id": "f03b9e3a",
   "metadata": {},
   "source": [
    "# Analysis of bicycle use in New York"
   ]
  },
  {
   "cell_type": "markdown",
   "id": "33dbbb31",
   "metadata": {},
   "source": [
    "#### Type of bicycle"
   ]
  },
  {
   "cell_type": "code",
   "execution_count": null,
   "id": "2ce4eea3",
   "metadata": {},
   "outputs": [],
   "source": [
    "print(\"Bicycle Type available:\")\n",
    "print(NY['rideable_type'].value_counts())"
   ]
  },
  {
   "cell_type": "code",
   "execution_count": null,
   "id": "2a481ccd",
   "metadata": {},
   "outputs": [],
   "source": [
    "rideable_type_counts = NY['rideable_type'].value_counts()\n",
    "rideable_type_counts.plot(kind='bar', color='darkseagreen')\n",
    "plt.title('Bicycle Type', fontsize=14)\n",
    "plt.xlabel('Type' , fontsize=13)\n",
    "plt.ylabel('Bicycles', fontsize=13)\n",
    "plt.xticks(rotation=360)\n",
    "plt.show()"
   ]
  },
  {
   "cell_type": "markdown",
   "id": "dca89386",
   "metadata": {},
   "source": [
    "#### Membership Type"
   ]
  },
  {
   "cell_type": "code",
   "execution_count": null,
   "id": "d0595c85",
   "metadata": {},
   "outputs": [],
   "source": [
    "print(\"Rides by Membership Type:\")\n",
    "print(NY['member_casual'].value_counts())"
   ]
  },
  {
   "cell_type": "code",
   "execution_count": null,
   "id": "288aa64a",
   "metadata": {},
   "outputs": [],
   "source": [
    "membership_counts = NY['member_casual'].value_counts()\n",
    "\n",
    "plt.figure(figsize=(5, 6))\n",
    "plt.pie(membership_counts, labels=membership_counts.index, autopct='%1.1f%%', colors=['khaki', 'darkseagreen'], wedgeprops=dict(width=0.3))\n",
    "plt.title('Rides by Membership Type')\n",
    "plt.show()"
   ]
  },
  {
   "cell_type": "markdown",
   "id": "0a0dd812",
   "metadata": {},
   "source": [
    "### Duration of Rides"
   ]
  },
  {
   "cell_type": "code",
   "execution_count": null,
   "id": "54bcd60d",
   "metadata": {
    "scrolled": true
   },
   "outputs": [],
   "source": [
    "print(\"Duration of Rides:\")\n",
    "print(NY['duration_minutes'].describe())"
   ]
  },
  {
   "cell_type": "markdown",
   "id": "7e029fcb",
   "metadata": {},
   "source": [
    "##### Long Trips"
   ]
  },
  {
   "cell_type": "code",
   "execution_count": null,
   "id": "028f3a85",
   "metadata": {},
   "outputs": [],
   "source": [
    "long_trips = ny[ny['duration_minutes'] > 20]\n",
    "\n",
    "num_long_trips = long_trips.shape[0]\n",
    "\n",
    "print(f\"Number of rides longer than 20 minutes: {num_long_trips}\")"
   ]
  },
  {
   "cell_type": "code",
   "execution_count": null,
   "id": "48a580fa",
   "metadata": {},
   "outputs": [],
   "source": [
    "long_trips = (num_long_trips / ny.shape[0]) * 100\n",
    "print(f'Percentage of trips more than 20 minutes: {long_trips:.2f}%')"
   ]
  },
  {
   "cell_type": "markdown",
   "id": "a42b9dbf",
   "metadata": {},
   "source": [
    "##### Short Trips"
   ]
  },
  {
   "cell_type": "code",
   "execution_count": null,
   "id": "bdb8d7f5",
   "metadata": {},
   "outputs": [],
   "source": [
    "short_trips = ny[ny['duration_minutes'] < 20]\n",
    "\n",
    "num_short_trips = short_trips.shape[0]\n",
    "\n",
    "print(f'Number of trips less than 20 minutes: {num_short_trips}')"
   ]
  },
  {
   "cell_type": "code",
   "execution_count": null,
   "id": "8cac4f6e",
   "metadata": {},
   "outputs": [],
   "source": [
    "short_trips = (num_short_trips / ny.shape[0]) * 100\n",
    "print(f'Percentage of trips less than 20 minutes: {short_trips:.2f}%')"
   ]
  },
  {
   "cell_type": "code",
   "execution_count": null,
   "id": "db60892a",
   "metadata": {},
   "outputs": [],
   "source": [
    "labels = ['Trips < 20 min', 'Trips >= 20 min']\n",
    "sizes = [num_short_trips, num_long_trips]\n",
    "colors = ['darkseagreen', 'khaki']\n",
    "explode = (0.1, 0) \n",
    "\n",
    "plt.figure(figsize=(6, 6))\n",
    "plt.pie(sizes, explode=explode, labels=labels, colors=colors, autopct='%1.1f%%',\n",
    "        shadow=True, startangle=140)\n",
    "plt.title('Proportion of Trip Durations')\n",
    "plt.show()"
   ]
  },
  {
   "cell_type": "code",
   "execution_count": null,
   "id": "296629de",
   "metadata": {},
   "outputs": [],
   "source": [
    "#Distribution of Ride Durations Up to 60 minutes\n",
    "plt.figure(figsize=(10, 6))\n",
    "plt.hist(ny['duration_minutes'], bins=range(0, 60, 1), color='khaki', edgecolor='black')\n",
    "plt.title('Distribution of Ride Durations, Up to 60 minutes')\n",
    "plt.xlabel('Minutes)')\n",
    "plt.ylabel('Frequency')\n",
    "plt.xlim(0, 60)\n",
    "plt.show()"
   ]
  },
  {
   "cell_type": "markdown",
   "id": "20fa0321",
   "metadata": {},
   "source": [
    "## Data normalization "
   ]
  },
  {
   "cell_type": "code",
   "execution_count": null,
   "id": "5bbe0bb2",
   "metadata": {},
   "outputs": [],
   "source": [
    "from sklearn.preprocessing import MinMaxScaler"
   ]
  },
  {
   "cell_type": "code",
   "execution_count": null,
   "id": "625231cf",
   "metadata": {},
   "outputs": [],
   "source": [
    "durations = ny[['duration_minutes']]\n",
    "\n",
    "scaler = MinMaxScaler()\n",
    "\n",
    "ny['duration_minutes_normalized'] = scaler.fit_transform(durations)\n",
    "\n",
    "ny[['duration_minutes', 'duration_minutes_normalized']].head()"
   ]
  },
  {
   "cell_type": "markdown",
   "id": "6274725b",
   "metadata": {},
   "source": [
    "## Data Standardized"
   ]
  },
  {
   "cell_type": "code",
   "execution_count": null,
   "id": "1fbcc7c8",
   "metadata": {},
   "outputs": [],
   "source": [
    "from sklearn.preprocessing import StandardScaler"
   ]
  },
  {
   "cell_type": "code",
   "execution_count": null,
   "id": "0b77a686",
   "metadata": {},
   "outputs": [],
   "source": [
    "scaler = StandardScaler()\n",
    "\n",
    "ny['duration_minutes_standardized'] = scaler.fit_transform(durations)\n",
    "\n",
    "\n",
    "ny[['duration_minutes', 'duration_minutes_standardized']].head()"
   ]
  },
  {
   "cell_type": "markdown",
   "id": "d5622865",
   "metadata": {},
   "source": [
    "## Range"
   ]
  },
  {
   "cell_type": "code",
   "execution_count": null,
   "id": "2c380d20",
   "metadata": {},
   "outputs": [],
   "source": [
    "bins = [0, 5, 10, 15, 20, 30, 60, 120, ny['duration_minutes'].max()]\n",
    "labels = ['0-5', '5-10', '10-15', '15-20', '20-30', '30-60', '60-120', '120+']\n",
    "ny['duration_range'] = pd.cut(ny['duration_minutes'], bins=bins, labels=labels, right=False)"
   ]
  },
  {
   "cell_type": "code",
   "execution_count": null,
   "id": "d3766be4",
   "metadata": {},
   "outputs": [],
   "source": [
    "duration_range_counts = ny['duration_range'].value_counts(normalize=True) * 100"
   ]
  },
  {
   "cell_type": "code",
   "execution_count": null,
   "id": "dd9538e3",
   "metadata": {},
   "outputs": [],
   "source": [
    "plt.figure(figsize=(10, 6))\n",
    "ax = duration_range_counts.sort_index().plot(kind='bar', color='lightseagreen', edgecolor='black')\n",
    "for i in ax.patches:\n",
    "    ax.text(i.get_x() + i.get_width() / 2, i.get_height() + 0.5, f'{i.get_height():.1f}%', ha='center', va='bottom')\n",
    "\n",
    "plt.title('Percentage Distribution of Trip Duration')\n",
    "plt.xlabel('Duration Range (minutes)')\n",
    "plt.ylabel('Percentage')\n",
    "plt.xticks(rotation=360)\n",
    "plt.show()"
   ]
  },
  {
   "cell_type": "markdown",
   "id": "88f24fc1",
   "metadata": {},
   "source": [
    "### Heatmaps for Bike Trip Start and End Locations"
   ]
  },
  {
   "cell_type": "code",
   "execution_count": null,
   "id": "adffa021",
   "metadata": {},
   "outputs": [],
   "source": [
    "from folium.plugins import HeatMap\n",
    "from IPython.display import IFrame"
   ]
  },
  {
   "cell_type": "code",
   "execution_count": null,
   "id": "73bc2c27",
   "metadata": {},
   "outputs": [],
   "source": [
    "# Sample of the DataFrame for a more manageable size\n",
    "sample_df = NY.sample(frac=0.01, random_state=1) \n",
    "\n",
    "# Map \n",
    "avg_lat = sample_df['start_lat'].mean()\n",
    "avg_lng = sample_df['start_lng'].mean()\n",
    "station_map = folium.Map(location=[avg_lat, avg_lng], zoom_start=13)\n",
    "\n",
    "# Coordinates for the heatmap\n",
    "start_coords = sample_df[['start_lat', 'start_lng']].dropna().values.tolist() \n",
    "end_coords = sample_df[['end_lat', 'end_lng']].dropna().values.tolist() \n",
    "\n",
    "# Heatmap to the map\n",
    "HeatMap(start_coords, radius=10, max_zoom=13).add_to(station_map)\n",
    "HeatMap(end_coords, radius=10, max_zoom=13).add_to(station_map)\n",
    "\n",
    "station_map.save('heatmap.html')"
   ]
  },
  {
   "cell_type": "code",
   "execution_count": null,
   "id": "a9346aa0",
   "metadata": {},
   "outputs": [],
   "source": [
    "IFrame(src='heatmap.html', width=800, height=600)"
   ]
  },
  {
   "cell_type": "markdown",
   "id": "1de34043",
   "metadata": {},
   "source": [
    "#### TOP 10 Routes"
   ]
  },
  {
   "cell_type": "code",
   "execution_count": null,
   "id": "98809ffd",
   "metadata": {},
   "outputs": [],
   "source": [
    "NY['route'] = NY['start_station_name'] + ' to ' + NY['end_station_name']\n",
    "route_usage = NY['route'].value_counts().head(10)\n",
    "\n",
    "plt.figure(figsize=(10, 6))\n",
    "sns.barplot(x=route_usage.values, y=route_usage.index, palette='viridis')\n",
    "plt.title('Top 10 Most Common Routes')\n",
    "plt.xlabel('Number of Trips')\n",
    "plt.ylabel('Route')\n",
    "plt.show()"
   ]
  },
  {
   "cell_type": "markdown",
   "id": "1d7008bd",
   "metadata": {},
   "source": [
    "# MEXICO CITY"
   ]
  },
  {
   "cell_type": "code",
   "execution_count": null,
   "id": "2e3aa502",
   "metadata": {},
   "outputs": [],
   "source": [
    "mexico = pd.read_csv('mexico.csv')\n",
    "mexico.head()"
   ]
  },
  {
   "cell_type": "markdown",
   "id": "2a2d03bf",
   "metadata": {},
   "source": [
    "#### Exploratory Data Analysis (EDA)"
   ]
  },
  {
   "cell_type": "code",
   "execution_count": null,
   "id": "c3a660d6",
   "metadata": {},
   "outputs": [],
   "source": [
    "mexico.columns.tolist()"
   ]
  },
  {
   "cell_type": "code",
   "execution_count": null,
   "id": "639df628",
   "metadata": {},
   "outputs": [],
   "source": [
    "mexico_columns = [\n",
    "    'ride_gender',\n",
    "    'ride_age',\n",
    "    'Bike',\n",
    "    'start_station_name',\n",
    "    'date_started',\n",
    "    'time_started',\n",
    "    'end_station_name',\n",
    "    'date_end',\n",
    "    'time_end'\n",
    "]\n",
    "\n",
    "mexico.columns = mexico_columns"
   ]
  },
  {
   "cell_type": "code",
   "execution_count": null,
   "id": "2cede158",
   "metadata": {},
   "outputs": [],
   "source": [
    "mexico.dtypes"
   ]
  },
  {
   "cell_type": "code",
   "execution_count": null,
   "id": "acfb98a3",
   "metadata": {},
   "outputs": [],
   "source": [
    "mexico.shape"
   ]
  },
  {
   "cell_type": "code",
   "execution_count": null,
   "id": "4d027417",
   "metadata": {},
   "outputs": [],
   "source": [
    "mexico.info()"
   ]
  },
  {
   "cell_type": "code",
   "execution_count": null,
   "id": "0e356894",
   "metadata": {},
   "outputs": [],
   "source": [
    "mexico.isnull().sum()"
   ]
  },
  {
   "cell_type": "code",
   "execution_count": null,
   "id": "6f473246",
   "metadata": {},
   "outputs": [],
   "source": [
    "# mexico = Analysis comparing Mexico City with other countries \n",
    "# mexico1= Individual analysis of Mexico City\n",
    "\n",
    "mexico1= mexico"
   ]
  },
  {
   "cell_type": "code",
   "execution_count": null,
   "id": "8b565314",
   "metadata": {
    "scrolled": true
   },
   "outputs": [],
   "source": [
    "mexico= mexico.drop(['ride_age','Bike','end_station_name'], axis=1)\n",
    "mexico.isnull().sum()"
   ]
  },
  {
   "cell_type": "code",
   "execution_count": null,
   "id": "a0224aaf",
   "metadata": {},
   "outputs": [],
   "source": [
    "mexico1= mexico1.dropna(subset=['ride_age'])\n",
    "mexico1.isnull().sum()"
   ]
  },
  {
   "cell_type": "markdown",
   "id": "dc9d4194",
   "metadata": {},
   "source": [
    "# Analysis of bicycle use in Mexico City"
   ]
  },
  {
   "cell_type": "markdown",
   "id": "923c4335",
   "metadata": {},
   "source": [
    "#### Gender"
   ]
  },
  {
   "cell_type": "code",
   "execution_count": null,
   "id": "6637e6e4",
   "metadata": {},
   "outputs": [],
   "source": [
    "gender_counts = mexico1['ride_gender'].value_counts()\n",
    "print(f\"Registered genders:\\n{gender_counts}\")"
   ]
  },
  {
   "cell_type": "code",
   "execution_count": null,
   "id": "b3e0282a",
   "metadata": {},
   "outputs": [],
   "source": [
    "plt.figure(figsize=(8, 6))\n",
    "sns.barplot(x=gender_counts.index, y=gender_counts.values, palette='crest')\n",
    "plt.title('Distribution of Rides by Gender')\n",
    "plt.xlabel('Gender')\n",
    "plt.ylabel('Number of Rides')\n",
    "plt.show()"
   ]
  },
  {
   "cell_type": "markdown",
   "id": "a21561d4",
   "metadata": {},
   "source": [
    "#### AGE"
   ]
  },
  {
   "cell_type": "code",
   "execution_count": null,
   "id": "100a304c",
   "metadata": {},
   "outputs": [],
   "source": [
    "print(\"Cyclists age:\")\n",
    "print(mexico1['ride_age'].describe())"
   ]
  },
  {
   "cell_type": "code",
   "execution_count": null,
   "id": "8f2df79d",
   "metadata": {},
   "outputs": [],
   "source": [
    "plt.figure(figsize=(10, 6))\n",
    "plt.hist(mexico1['ride_age'], bins=range(int(mexico1['ride_age'].min()), int(mexico1['ride_age'].max()) + 1, 1), edgecolor='black')\n",
    "plt.title('Distribution of Cyclists\\' Age')\n",
    "plt.xlabel('Age')\n",
    "plt.ylabel('Frequency')\n",
    "plt.grid(axis='y', linestyle='--', alpha=0.7)\n",
    "\n",
    "plt.show()"
   ]
  },
  {
   "cell_type": "markdown",
   "id": "64f131ba",
   "metadata": {},
   "source": [
    "#### Rides by Bike ID"
   ]
  },
  {
   "cell_type": "code",
   "execution_count": null,
   "id": "f9a1fcf4",
   "metadata": {},
   "outputs": [],
   "source": [
    "top_bikes = mexico1['Bike'].value_counts().head(10)\n",
    "\n",
    "top_bikes_data = mexico1[mexico1['Bike'].isin(top_bikes.index)]\n",
    "\n",
    "print(\"Top 10 most used bikes and their details:\")\n",
    "print(top_bikes_data[['ride_gender', 'ride_age', 'Bike', 'start_station_name']])"
   ]
  },
  {
   "cell_type": "code",
   "execution_count": null,
   "id": "f7ec7cc6",
   "metadata": {},
   "outputs": [],
   "source": [
    "plt.barh(top_bikes.index.astype(str), top_bikes.values, color='skyblue', edgecolor='black')\n",
    "plt.title('Top 10 Most Used Bikes')\n",
    "plt.xlabel('Rides')\n",
    "plt.ylabel('Bike ID')\n",
    "plt.grid(axis='x', linestyle='--', alpha=0.7)"
   ]
  },
  {
   "cell_type": "code",
   "execution_count": null,
   "id": "6b41bc5d",
   "metadata": {},
   "outputs": [],
   "source": [
    "sns.boxplot(x='Bike', y='ride_age', data=top_bikes_data, order=top_bikes.index)\n",
    "plt.title('Age Distribution for Top 10 Most Used Bikes')\n",
    "plt.xlabel('Bike ID')\n",
    "plt.ylabel('Age')\n",
    "plt.xticks(rotation=20)\n",
    "plt.show()"
   ]
  }
 ],
 "metadata": {
  "kernelspec": {
   "display_name": "Python 3 (ipykernel)",
   "language": "python",
   "name": "python3"
  },
  "language_info": {
   "codemirror_mode": {
    "name": "ipython",
    "version": 3
   },
   "file_extension": ".py",
   "mimetype": "text/x-python",
   "name": "python",
   "nbconvert_exporter": "python",
   "pygments_lexer": "ipython3",
   "version": "3.11.4"
  }
 },
 "nbformat": 4,
 "nbformat_minor": 5
}
