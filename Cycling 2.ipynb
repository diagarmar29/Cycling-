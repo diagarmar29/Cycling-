{
 "cells": [
  {
   "cell_type": "markdown",
   "id": "18f14bdd",
   "metadata": {},
   "source": [
    "# Cycling Part 2: Country Comparisons "
   ]
  },
  {
   "cell_type": "code",
   "execution_count": null,
   "id": "48c30326",
   "metadata": {},
   "outputs": [],
   "source": [
    "import pandas as pd\n",
    "import numpy as np\n",
    "import matplotlib.pyplot as plt\n",
    "import seaborn as sns\n",
    "import warnings\n",
    "warnings.filterwarnings('ignore', category=FutureWarning, module='pandas')\n",
    "from sklearn.preprocessing import MinMaxScaler\n",
    "from sklearn.preprocessing import StandardScaler"
   ]
  },
  {
   "cell_type": "code",
   "execution_count": null,
   "id": "f1bbe056",
   "metadata": {},
   "outputs": [],
   "source": [
    "import warnings\n",
    "warnings.filterwarnings(\"ignore\")"
   ]
  },
  {
   "cell_type": "code",
   "execution_count": null,
   "id": "6ed045b1",
   "metadata": {},
   "outputs": [],
   "source": [
    "dublin= pd.read_csv(\"Cycling.csv\")"
   ]
  },
  {
   "cell_type": "markdown",
   "id": "8e40d83c",
   "metadata": {},
   "source": [
    "# Dublin"
   ]
  },
  {
   "cell_type": "code",
   "execution_count": null,
   "id": "46dc7ed9",
   "metadata": {},
   "outputs": [],
   "source": [
    "dublin.head()"
   ]
  },
  {
   "cell_type": "code",
   "execution_count": null,
   "id": "bc7dcd45",
   "metadata": {},
   "outputs": [],
   "source": [
    "dublin = dublin.drop('bikes_in_use', axis=1)"
   ]
  },
  {
   "cell_type": "code",
   "execution_count": null,
   "id": "16d787ef",
   "metadata": {},
   "outputs": [],
   "source": [
    "print(\"Minimum date:\", dublin['date'].min())\n",
    "print(\"Maximum date:\", dublin['date'].max())"
   ]
  },
  {
   "cell_type": "code",
   "execution_count": null,
   "id": "bbb7d49b",
   "metadata": {},
   "outputs": [],
   "source": [
    "dublin['datetime'] = pd.to_datetime(dublin['date'].astype(str) + ' ' + dublin['time'].astype(str))"
   ]
  },
  {
   "cell_type": "code",
   "execution_count": null,
   "id": "bcc3219f",
   "metadata": {},
   "outputs": [],
   "source": [
    "dublin.isnull().sum()"
   ]
  },
  {
   "cell_type": "code",
   "execution_count": null,
   "id": "aebe756f",
   "metadata": {
    "scrolled": true
   },
   "outputs": [],
   "source": [
    "dublin.describe()"
   ]
  },
  {
   "cell_type": "code",
   "execution_count": null,
   "id": "3032dcc3",
   "metadata": {},
   "outputs": [],
   "source": [
    "dublin.index = pd.to_datetime(dublin.index)"
   ]
  },
  {
   "cell_type": "code",
   "execution_count": null,
   "id": "339f9411",
   "metadata": {},
   "outputs": [],
   "source": [
    "# Features and target variable\n",
    "X = dublin[['capacity', 'num_docks_available']]\n",
    "y = dublin['num_bikes_available']\n",
    "\n",
    "# Scale features\n",
    "scaler = StandardScaler()\n",
    "X_scaled = scaler.fit_transform(X)"
   ]
  },
  {
   "cell_type": "markdown",
   "id": "a19f2b34",
   "metadata": {},
   "source": [
    "### Split the data into training and testing sets"
   ]
  },
  {
   "cell_type": "code",
   "execution_count": null,
   "id": "53ff1ee7",
   "metadata": {},
   "outputs": [],
   "source": [
    "from sklearn.model_selection import train_test_split"
   ]
  },
  {
   "cell_type": "code",
   "execution_count": null,
   "id": "028226eb",
   "metadata": {},
   "outputs": [],
   "source": [
    "X_train, X_test, y_train, y_test = train_test_split(X_scaled, y, test_size=0.2, random_state=42)"
   ]
  },
  {
   "cell_type": "markdown",
   "id": "ce79c746",
   "metadata": {},
   "source": [
    "### LinearRegression model "
   ]
  },
  {
   "cell_type": "code",
   "execution_count": null,
   "id": "9288bdeb",
   "metadata": {},
   "outputs": [],
   "source": [
    "from sklearn.linear_model import LinearRegression\n",
    "from sklearn.metrics import mean_squared_error, r2_score\n",
    "\n",
    "lr_model = LinearRegression()\n",
    "lr_model.fit(X_train, y_train)\n",
    "\n",
    "y_pred_lr = lr_model.predict(X_test)\n",
    "\n",
    "print('Linear Regression Mean Squared Error:', mean_squared_error(y_test, y_pred_lr))\n",
    "print('Linear Regression R-squared:', r2_score(y_test, y_pred_lr))"
   ]
  },
  {
   "cell_type": "markdown",
   "id": "5361b02c",
   "metadata": {},
   "source": [
    "### Random Forest model"
   ]
  },
  {
   "cell_type": "code",
   "execution_count": null,
   "id": "c424ddd5",
   "metadata": {},
   "outputs": [],
   "source": [
    "from sklearn.ensemble import RandomForestRegressor"
   ]
  },
  {
   "cell_type": "code",
   "execution_count": null,
   "id": "90611a01",
   "metadata": {},
   "outputs": [],
   "source": [
    "rf_model = RandomForestRegressor(n_estimators=100, random_state=42)\n",
    "rf_model.fit(X_train, y_train)\n",
    "\n",
    "y_pred_rf = rf_model.predict(X_test)\n",
    "\n",
    "print('Random Forest Mean Squared Error:', mean_squared_error(y_test, y_pred_rf))\n",
    "print('Random Forest R-squared:', r2_score(y_test, y_pred_rf))"
   ]
  },
  {
   "cell_type": "markdown",
   "id": "050ae02a",
   "metadata": {},
   "source": [
    "The Random Forest model has an MSC level lower 0.98, making it the best model for training the available bicycle data in Dublin"
   ]
  },
  {
   "cell_type": "markdown",
   "id": "969783a1",
   "metadata": {},
   "source": [
    "### Forecast using Prophet model"
   ]
  },
  {
   "cell_type": "code",
   "execution_count": null,
   "id": "a463f694",
   "metadata": {},
   "outputs": [],
   "source": [
    "from prophet import Prophet"
   ]
  },
  {
   "cell_type": "code",
   "execution_count": null,
   "id": "a424d455",
   "metadata": {},
   "outputs": [],
   "source": [
    "station_data = dublin[dublin['station_id'] == 92][['datetime', 'num_bikes_available']]\n",
    "\n",
    "station_data = station_data.set_index('datetime').resample('D').mean().reset_index()\n",
    "\n",
    "df_prophet = station_data.rename(columns={'datetime': 'ds', 'num_bikes_available': 'y'})"
   ]
  },
  {
   "cell_type": "code",
   "execution_count": null,
   "id": "2b735187",
   "metadata": {},
   "outputs": [],
   "source": [
    "model_prophet = Prophet()\n",
    "model_prophet.fit(df_prophet)\n",
    "\n",
    "future = model_prophet.make_future_dataframe(periods=7) \n",
    "\n",
    "\n",
    "forecast = model_prophet.predict(future)\n",
    "\n",
    "forecast_df = forecast[['ds', 'yhat', 'yhat_lower', 'yhat_upper']].tail(7)\n",
    "print(forecast_df)"
   ]
  },
  {
   "cell_type": "code",
   "execution_count": null,
   "id": "af240316",
   "metadata": {},
   "outputs": [],
   "source": [
    "fig = model_prophet.plot(forecast)\n",
    "plt.title('Bike Availability Forecast')\n",
    "plt.show()"
   ]
  },
  {
   "cell_type": "code",
   "execution_count": null,
   "id": "b7e921fc",
   "metadata": {},
   "outputs": [],
   "source": [
    "plt.figure(figsize=(10, 5))\n",
    "plt.plot(forecast['ds'], forecast['yhat'], label='Prediction', color='green')  \n",
    "plt.fill_between(forecast['ds'], forecast['yhat_lower'], forecast['yhat_upper'], color='green', alpha=0.2)  \n",
    "plt.xlabel('Date')\n",
    "plt.ylabel('Value')\n",
    "plt.title('Predictions with Confidence Intervals')\n",
    "plt.legend()\n",
    "plt.show()"
   ]
  },
  {
   "cell_type": "markdown",
   "id": "2b06af22",
   "metadata": {},
   "source": [
    "# Mexico City and New York"
   ]
  },
  {
   "cell_type": "code",
   "execution_count": null,
   "id": "b7880ef3",
   "metadata": {},
   "outputs": [],
   "source": [
    "Cycling = pd.read_csv(\"Cycling2.csv\")"
   ]
  },
  {
   "cell_type": "markdown",
   "id": "4e79fd79",
   "metadata": {},
   "source": [
    "#### Exploratory Data Analysis (EDA)"
   ]
  },
  {
   "cell_type": "code",
   "execution_count": null,
   "id": "9d029def",
   "metadata": {},
   "outputs": [],
   "source": [
    "Cycling.head()"
   ]
  },
  {
   "cell_type": "code",
   "execution_count": null,
   "id": "6b75e73d",
   "metadata": {},
   "outputs": [],
   "source": [
    "Cycling = Cycling.drop(Cycling.columns[0], axis=1)"
   ]
  },
  {
   "cell_type": "code",
   "execution_count": null,
   "id": "8ad6795a",
   "metadata": {},
   "outputs": [],
   "source": [
    "Cycling.dtypes"
   ]
  },
  {
   "cell_type": "code",
   "execution_count": null,
   "id": "059642dd",
   "metadata": {},
   "outputs": [],
   "source": [
    "Cycling.isnull().sum()"
   ]
  },
  {
   "cell_type": "markdown",
   "id": "f1f643b7",
   "metadata": {},
   "source": [
    "#### Analysis of the same time period "
   ]
  },
  {
   "cell_type": "code",
   "execution_count": null,
   "id": "274e1c59",
   "metadata": {},
   "outputs": [],
   "source": [
    "Cycling['time_started'] = pd.to_datetime(Cycling['time_started'], format='%H:%M:%S').dt.time\n",
    "Cycling['time_end'] = pd.to_datetime(Cycling['time_end'], format='%H:%M:%S').dt.time"
   ]
  },
  {
   "cell_type": "code",
   "execution_count": null,
   "id": "14d59035",
   "metadata": {},
   "outputs": [],
   "source": [
    "# datetime_started\n",
    "Cycling['datetime_started'] = pd.to_datetime(Cycling['date_started'].astype(str) + ' ' + Cycling['time_started'].astype(str))\n",
    "\n",
    "# datetime_end\n",
    "Cycling['datetime_end'] = pd.to_datetime(Cycling['date_end'].astype(str) + ' ' + Cycling['time_end'].astype(str))"
   ]
  },
  {
   "cell_type": "code",
   "execution_count": null,
   "id": "000652c4",
   "metadata": {},
   "outputs": [],
   "source": [
    "ny_data = Cycling[Cycling['Country'] == 'New_York']\n",
    "mexico_data = Cycling[Cycling['Country'] == 'Mexico']"
   ]
  },
  {
   "cell_type": "code",
   "execution_count": null,
   "id": "e0f191b4",
   "metadata": {},
   "outputs": [],
   "source": [
    "# Dates per City\n",
    "ny_dates = ny_data['date_started'].unique()\n",
    "mexico_dates = mexico_data['date_started'].unique()"
   ]
  },
  {
   "cell_type": "code",
   "execution_count": null,
   "id": "9a111036",
   "metadata": {},
   "outputs": [],
   "source": [
    "#Period\n",
    "print(\"Nueva York:\", ny_data['date_started'].min(), \"to\", ny_data['date_started'].max())\n",
    "print(\"Mexico:\", mexico_data['date_started'].min(), \"to\", mexico_data['date_started'].max())"
   ]
  },
  {
   "cell_type": "code",
   "execution_count": null,
   "id": "17e135ad",
   "metadata": {},
   "outputs": [],
   "source": [
    "#Data filtered"
   ]
  },
  {
   "cell_type": "code",
   "execution_count": null,
   "id": "d7266246",
   "metadata": {
    "scrolled": true
   },
   "outputs": [],
   "source": [
    "Cycling['date_started'] = pd.to_datetime(Cycling['date_started'])\n",
    "start_date = pd.to_datetime('2024-05-31')\n",
    "end_date = pd.to_datetime('2024-06-17')"
   ]
  },
  {
   "cell_type": "code",
   "execution_count": null,
   "id": "1084f0e0",
   "metadata": {},
   "outputs": [],
   "source": [
    "cycling1 = filtered_data = Cycling[(Cycling['date_started'] >= start_date) & (Cycling['date_started'] <= end_date)]"
   ]
  },
  {
   "cell_type": "code",
   "execution_count": null,
   "id": "5e278f09",
   "metadata": {},
   "outputs": [],
   "source": [
    "cycling = cycling1.copy()"
   ]
  },
  {
   "cell_type": "code",
   "execution_count": null,
   "id": "9ade56d0",
   "metadata": {},
   "outputs": [],
   "source": [
    "cycling.shape"
   ]
  },
  {
   "cell_type": "markdown",
   "id": "6e91340c",
   "metadata": {},
   "source": [
    "### Range"
   ]
  },
  {
   "cell_type": "code",
   "execution_count": null,
   "id": "4167962e",
   "metadata": {},
   "outputs": [],
   "source": [
    "trips_more_60min = (cycling['duration_minutes'] >60 ).sum()\n",
    "print(f\"Number of trips lasting more than 1 hour: {trips_more_60min}\")"
   ]
  },
  {
   "cell_type": "code",
   "execution_count": null,
   "id": "cdc7f07e",
   "metadata": {},
   "outputs": [],
   "source": [
    "bins = [0, 5, 10, 15, 20, 30, 40, 50, 60,float('inf')]\n",
    "labels = ['0-5', '5-10', '10-15', '15-20', '20-30', '30-40', '40-50', '50-60', '60+']\n",
    "\n",
    "# Convert 'duration_minutes' to numeric, if not already\n",
    "cycling['duration_minutes'] = pd.to_numeric(cycling['duration_minutes'], errors='coerce')\n",
    "\n",
    "# Create the 'Range' column based on the defined intervals\n",
    "cycling['Range'] = pd.cut(cycling['duration_minutes'], bins=bins, labels=labels, right=False)"
   ]
  },
  {
   "cell_type": "code",
   "execution_count": null,
   "id": "2f81ff5c",
   "metadata": {},
   "outputs": [],
   "source": [
    "cycling_range = cycling[['date_started', 'Country', 'Range']]"
   ]
  },
  {
   "cell_type": "code",
   "execution_count": null,
   "id": "c073c764",
   "metadata": {
    "scrolled": false
   },
   "outputs": [],
   "source": [
    "# Filter data by country\n",
    "cycling_ny = cycling_range[cycling_range['Country'] == 'New_York']\n",
    "cycling_mexico = cycling_range[cycling_range['Country'] == 'Mexico']\n",
    "\n",
    "# Calculate the distribution of duration ranges for each country\n",
    "ny_distribution = cycling_ny['Range'].value_counts().sort_index()\n",
    "mexico_distribution = cycling_mexico['Range'].value_counts().sort_index()\n",
    "\n",
    "# Define colors for each range\n",
    "colors = {\n",
    "    '0-5': '#008000',\n",
    "    '5-10': '#BFBF00',\n",
    "    '10-15': '#556B2F',\n",
    "    '15-20': '#66CDAA',\n",
    "    '20-30': '#008B8B',\n",
    "    '30-40': '#c2f0c2',\n",
    "    '40-50': '#ff6666',\n",
    "    '50-60': '#5F9EA0',\n",
    "    '60+': '#ff9999'\n",
    "}\n",
    "\n",
    "# Create pie charts with improved readability\n",
    "fig, axes = plt.subplots(1, 2, figsize=(18, 8))  # Increase figure size for better visibility\n",
    "\n",
    "# Pie chart for New York\n",
    "sizes = ny_distribution\n",
    "labels = ny_distribution.index\n",
    "ny_colors = [colors[label] for label in labels]  # Get colors for New York ranges\n",
    "\n",
    "def autopct_format(pct):\n",
    "    return f'{pct:.1f}%' if pct > 2 else ''  # Hide small percentages\n",
    "\n",
    "axes[0].pie(sizes, \n",
    "            labels=labels, \n",
    "            autopct=autopct_format, \n",
    "            colors=ny_colors,\n",
    "            wedgeprops={'edgecolor': 'white', 'linewidth': 1},  # White border around slices\n",
    "            textprops={'color': 'white'},  # White text color\n",
    "            labeldistance=1.2,  # Move labels away from the center\n",
    "            explode=[0.1 if x < 10 else 0 for x in sizes])  # Explode small slices\n",
    "axes[0].set_title('Duration Range Distribution - New York', color='white')\n",
    "\n",
    "# Pie chart for Mexico\n",
    "sizes = mexico_distribution\n",
    "labels = mexico_distribution.index\n",
    "mexico_colors = [colors[label] for label in labels]  # Get colors for Mexico ranges\n",
    "\n",
    "axes[1].pie(sizes, \n",
    "            labels=labels, \n",
    "            autopct=autopct_format, \n",
    "            colors=mexico_colors,\n",
    "            wedgeprops={'edgecolor': 'white', 'linewidth': 1},  # White border around slices\n",
    "            textprops={'color': 'white'},  # White text color\n",
    "            labeldistance=1.2,  # Move labels away from the center\n",
    "            explode=[0.1 if x < 10 else 0 for x in sizes])  # Explode small slices\n",
    "axes[1].set_title('Duration Range Distribution - Mexico', color='white')\n",
    "\n",
    "# Adjust layout and set background color\n",
    "plt.tight_layout()\n",
    "fig.patch.set_facecolor('black')  # Set background color of the figure to black\n",
    "axes[0].set_facecolor('black')  # Set background color of the subplot\n",
    "axes[1].set_facecolor('black')  # Set background color of the subplot\n",
    "\n",
    "# Show the pie charts\n",
    "plt.show()"
   ]
  },
  {
   "cell_type": "code",
   "execution_count": null,
   "id": "4e3bc371",
   "metadata": {},
   "outputs": [],
   "source": [
    "population_ny = 8_000_000  # New York\n",
    "population_mx = 9_209_944  # Mexico City"
   ]
  },
  {
   "cell_type": "markdown",
   "id": "4705cba8",
   "metadata": {},
   "source": [
    "### Duration_minutes"
   ]
  },
  {
   "cell_type": "code",
   "execution_count": null,
   "id": "ff53f823",
   "metadata": {},
   "outputs": [],
   "source": [
    "cycling1 = cycling.drop(['Range','date_end', 'time_started', 'time_end'], axis=1)"
   ]
  },
  {
   "cell_type": "code",
   "execution_count": null,
   "id": "0f9e72b1",
   "metadata": {},
   "outputs": [],
   "source": [
    "print(cycling['duration_minutes'].describe())"
   ]
  },
  {
   "cell_type": "code",
   "execution_count": null,
   "id": "8a72cf25",
   "metadata": {},
   "outputs": [],
   "source": [
    "cycling1.head()"
   ]
  },
  {
   "cell_type": "code",
   "execution_count": null,
   "id": "a11e0f1e",
   "metadata": {},
   "outputs": [],
   "source": [
    "# Extract hour from datetime_started and create a new column 'hour'\n",
    "cycling1['hour_started'] = cycling1['datetime_started'].dt.hour\n",
    "cycling1['hour_end'] = cycling1['datetime_end'].dt.hour\n",
    "\n",
    "# To handle cases where 'hour_end' may be different than 'hour_started', we will consider the whole range\n",
    "# Expand the DataFrame to cover each hour between 'hour_started' and 'hour_end'\n",
    "expanded_data = []\n",
    "\n",
    "for _, row in cycling1.iterrows():\n",
    "    start_hour = row['hour_started']\n",
    "    end_hour = row['hour_end']\n",
    "    for hour in range(start_hour, end_hour + 1):\n",
    "        expanded_data.append({\n",
    "            'date_started': row['date_started'],\n",
    "            'hour': hour,\n",
    "            'duration_minutes': row['duration_minutes'],\n",
    "            'bikes_in_use': row['bikes_in_use'],\n",
    "            'Country': row['Country']\n",
    "        })\n",
    "\n",
    "expanded_df = pd.DataFrame(expanded_data)\n",
    "\n",
    "# Aggregate data by date and hour\n",
    "df = expanded_df.groupby(['date_started', 'hour', 'Country']).agg({\n",
    "    'duration_minutes': 'sum',  # Sum duration minutes for each hour\n",
    "    'bikes_in_use': 'sum'       # Sum bikes in use for each hour\n",
    "}).reset_index()"
   ]
  },
  {
   "cell_type": "code",
   "execution_count": null,
   "id": "1f759bd1",
   "metadata": {},
   "outputs": [],
   "source": [
    "df"
   ]
  },
  {
   "cell_type": "markdown",
   "id": "8b227b03",
   "metadata": {},
   "source": [
    "#### Missing value"
   ]
  },
  {
   "cell_type": "code",
   "execution_count": null,
   "id": "2ff28914",
   "metadata": {},
   "outputs": [],
   "source": [
    "# Define the range of dates and hours\n",
    "start_date = pd.to_datetime(df['date_started'].min())\n",
    "end_date = pd.to_datetime(df['date_started'].max())\n",
    "all_hours = pd.date_range(start=start_date, end=end_date, freq='H')\n",
    "\n",
    "# Create a DataFrame with all possible hours\n",
    "all_hours_df = pd.DataFrame({\n",
    "    'date_started': all_hours.date,\n",
    "    'hour': all_hours.hour\n",
    "})"
   ]
  },
  {
   "cell_type": "code",
   "execution_count": null,
   "id": "78707731",
   "metadata": {},
   "outputs": [],
   "source": [
    "# Filter data for New York and Mexico\n",
    "ny_data = df[df['Country'] == 'New_York']\n",
    "mx_data = df[df['Country'] == 'Mexico']\n",
    "\n",
    "# Combine date and hour into a single column for both the complete hours DataFrame and the filtered data\n",
    "ny_data['datetime'] = pd.to_datetime(ny_data['date_started'].astype(str) + ' ' + ny_data['hour'].astype(str) + ':00:00')\n",
    "mx_data['datetime'] = pd.to_datetime(mx_data['date_started'].astype(str) + ' ' + mx_data['hour'].astype(str) + ':00:00')\n",
    "\n",
    "all_hours_df['datetime'] = pd.to_datetime(all_hours_df['date_started'].astype(str) + ' ' + all_hours_df['hour'].astype(str) + ':00:00')\n",
    "\n",
    "# Check coverage\n",
    "ny_hours_covered = all_hours_df['datetime'].isin(ny_data['datetime'])\n",
    "mx_hours_covered = all_hours_df['datetime'].isin(mx_data['datetime'])"
   ]
  },
  {
   "cell_type": "code",
   "execution_count": null,
   "id": "605d6ddf",
   "metadata": {},
   "outputs": [],
   "source": [
    "# Find missing hours\n",
    "missing_ny_hours = all_hours_df[~ny_hours_covered]\n",
    "missing_mx_hours = all_hours_df[~mx_hours_covered]\n",
    "\n",
    "# Print the results\n",
    "print(\"Missing hours in New York:\")\n",
    "print(missing_ny_hours)\n",
    "\n",
    "print(\"Missing hours in Mexico:\")\n",
    "print(missing_mx_hours)"
   ]
  },
  {
   "cell_type": "markdown",
   "id": "76a97263",
   "metadata": {},
   "source": [
    "#### Normalize the relevant columns"
   ]
  },
  {
   "cell_type": "code",
   "execution_count": null,
   "id": "d05806a5",
   "metadata": {},
   "outputs": [],
   "source": [
    "from sklearn.preprocessing import StandardScaler"
   ]
  },
  {
   "cell_type": "code",
   "execution_count": null,
   "id": "8fa9034b",
   "metadata": {},
   "outputs": [],
   "source": [
    "# Add a column for normalized duration_minutes and bikes_in_use\n",
    "df['duration_minutes_normalized'] = df.apply(\n",
    "    lambda row: row['duration_minutes'] / population_ny if row['Country'] == 'New_York' \n",
    "                else row['duration_minutes'] / population_mx, axis=1\n",
    ")\n",
    "\n",
    "df['bikes_in_use_normalized'] = df.apply(\n",
    "    lambda row: row['bikes_in_use'] / population_ny if row['Country'] == 'New_York'\n",
    "                else row['bikes_in_use'] / population_mx, axis=1\n",
    ")"
   ]
  },
  {
   "cell_type": "code",
   "execution_count": null,
   "id": "6bd26154",
   "metadata": {},
   "outputs": [],
   "source": [
    "# Initialize the scaler\n",
    "scaler = StandardScaler()\n",
    "\n",
    "# Fit and transform the data\n",
    "df[['duration_minutes_normalized', 'bikes_in_use_normalized']] = scaler.fit_transform(\n",
    "    df[['duration_minutes_normalized', 'bikes_in_use_normalized']]\n",
    ")\n",
    "\n",
    "# Display the first few rows of the dataframe to verify\n",
    "print(df.head())"
   ]
  },
  {
   "cell_type": "markdown",
   "id": "4f1e1da3",
   "metadata": {},
   "source": [
    "#### Standardize the relevant columns"
   ]
  },
  {
   "cell_type": "code",
   "execution_count": null,
   "id": "c9456dfe",
   "metadata": {},
   "outputs": [],
   "source": [
    "scaler = StandardScaler()\n",
    "\n",
    "df[['duration_minutes', 'bikes_in_use']] = scaler.fit_transform(\n",
    "    df[['duration_minutes', 'bikes_in_use']]\n",
    ")"
   ]
  },
  {
   "cell_type": "code",
   "execution_count": null,
   "id": "cfd52fe3",
   "metadata": {},
   "outputs": [],
   "source": [
    "# Normalize the relevant columns\n",
    "df[['duration_minutes', 'bikes_in_use']] = scaler.fit_transform(\n",
    "    df[['duration_minutes', 'bikes_in_use']]\n",
    ")"
   ]
  },
  {
   "cell_type": "code",
   "execution_count": null,
   "id": "728c3fe7",
   "metadata": {},
   "outputs": [],
   "source": [
    "# Standardize duration_minutes and bikes_in_use by country\n",
    "def standardize_by_country(group):\n",
    "    group[['duration_minutes_standardized', 'bikes_in_use_standardized']] = scaler.fit_transform(\n",
    "        group[['duration_minutes', 'bikes_in_use']]\n",
    "    )\n",
    "    return group\n",
    "\n",
    "# Apply standardization\n",
    "df_standardized = df.groupby('Country').apply(standardize_by_country).reset_index(drop=True)"
   ]
  },
  {
   "cell_type": "code",
   "execution_count": null,
   "id": "dc384049",
   "metadata": {},
   "outputs": [],
   "source": [
    "def adjust_for_population(row):\n",
    "    if row['Country'] == 'New_York':\n",
    "        population = population_ny\n",
    "    elif row['Country'] == 'Mexico':\n",
    "        population = population_mx\n",
    "    else:\n",
    "        population = 1  # Default to 1 to avoid division by zero\n",
    "    \n",
    "    # Scale standardized values by population\n",
    "    row['duration_minutes_adjusted'] = row['duration_minutes_standardized'] * (population / population_ny)\n",
    "    row['bikes_in_use_adjusted'] = row['bikes_in_use_standardized'] * (population / population_ny)\n",
    "    return row\n",
    "\n",
    "# Apply population adjustment\n",
    "df_final = df_standardized.apply(adjust_for_population, axis=1)"
   ]
  },
  {
   "cell_type": "code",
   "execution_count": null,
   "id": "27fb7519",
   "metadata": {},
   "outputs": [],
   "source": [
    "cycling_hour = df_final.drop(['duration_minutes','bikes_in_use'], axis=1)"
   ]
  },
  {
   "cell_type": "code",
   "execution_count": null,
   "id": "23c803ae",
   "metadata": {},
   "outputs": [],
   "source": [
    "cycling_hour.head()"
   ]
  },
  {
   "cell_type": "markdown",
   "id": "b5724d34",
   "metadata": {},
   "source": [
    "## Analysis"
   ]
  },
  {
   "cell_type": "markdown",
   "id": "0389d0e3",
   "metadata": {},
   "source": [
    "#### Standardized Duration Minutes Distribution"
   ]
  },
  {
   "cell_type": "code",
   "execution_count": null,
   "id": "fa5bac01",
   "metadata": {},
   "outputs": [],
   "source": [
    "ny_data = cycling_hour[cycling_hour['Country'] == 'New_York']\n",
    "mx_data = cycling_hour[cycling_hour['Country'] == 'Mexico']"
   ]
  },
  {
   "cell_type": "code",
   "execution_count": null,
   "id": "11f4c5d3",
   "metadata": {},
   "outputs": [],
   "source": [
    "\n",
    "plt.figure(figsize=(15, 10))\n",
    "\n",
    "plt.subplot(2, 2, 1)\n",
    "plt.hist(ny_data['duration_minutes_standardized'], bins=30, color='blue', alpha=0.7, label='New York')\n",
    "plt.hist(mx_data['duration_minutes_standardized'], bins=30, color='orange', alpha=0.7, label='Mexico')\n",
    "plt.title('Standardized Duration Minutes Distribution')\n",
    "plt.xlabel('Standardized Duration Minutes')\n",
    "plt.ylabel('Frequency')\n",
    "plt.legend()"
   ]
  },
  {
   "cell_type": "markdown",
   "id": "22c4b326",
   "metadata": {},
   "source": [
    "### Standardized Bikes in Use"
   ]
  },
  {
   "cell_type": "code",
   "execution_count": null,
   "id": "b83576c6",
   "metadata": {},
   "outputs": [],
   "source": [
    "plt.figure(figsize=(15, 10))\n",
    "plt.subplot(2, 2, 2)\n",
    "plt.hist(ny_data['bikes_in_use_standardized'], bins=30, color='blue', alpha=0.7, label='New York')\n",
    "plt.hist(mx_data['bikes_in_use_standardized'], bins=30, color='orange', alpha=0.7, label='Mexico')\n",
    "plt.title('Standardized Bikes in Use Distribution')\n",
    "plt.xlabel('Standardized Bikes in Use')\n",
    "plt.ylabel('Frequency')\n",
    "plt.legend()"
   ]
  },
  {
   "cell_type": "markdown",
   "id": "6dfa7a62",
   "metadata": {},
   "source": [
    "### Adjusted Duration Minutes"
   ]
  },
  {
   "cell_type": "code",
   "execution_count": null,
   "id": "e69aee3b",
   "metadata": {
    "scrolled": true
   },
   "outputs": [],
   "source": [
    "plt.figure(figsize=(15, 10))\n",
    "plt.subplot(2, 2, 3)\n",
    "plt.hist(ny_data['duration_minutes_adjusted'], bins=30, color='blue', alpha=0.7, label='New York')\n",
    "plt.hist(mx_data['duration_minutes_adjusted'], bins=30, color='orange', alpha=0.7, label='Mexico')\n",
    "plt.title('Adjusted Duration Minutes Distribution')\n",
    "plt.xlabel('Adjusted Duration Minutes')\n",
    "plt.ylabel('Frequency')\n",
    "plt.legend()"
   ]
  },
  {
   "cell_type": "markdown",
   "id": "714a1f0d",
   "metadata": {},
   "source": [
    "#### Histogram for 'bikes_in_use_adjusted'"
   ]
  },
  {
   "cell_type": "code",
   "execution_count": null,
   "id": "d6c67b32",
   "metadata": {
    "scrolled": true
   },
   "outputs": [],
   "source": [
    "plt.figure(figsize=(15, 10))\n",
    "plt.subplot(2, 2, 4)\n",
    "plt.hist(ny_data['bikes_in_use_adjusted'], bins=30, color='blue', alpha=0.7, label='New York')\n",
    "plt.hist(mx_data['bikes_in_use_adjusted'], bins=30, color='orange', alpha=0.7, label='Mexico')\n",
    "plt.title('Adjusted Bikes in Use Distribution')\n",
    "plt.xlabel('Adjusted Bikes in Use')\n",
    "plt.ylabel('Frequency')\n",
    "plt.legend()\n",
    "\n",
    "plt.tight_layout()\n",
    "\n",
    "plt.show()"
   ]
  },
  {
   "cell_type": "markdown",
   "id": "4f2c1fbb",
   "metadata": {},
   "source": [
    "### Standardized Duration Minutes by Hour of the Day"
   ]
  },
  {
   "cell_type": "code",
   "execution_count": null,
   "id": "23143c87",
   "metadata": {},
   "outputs": [],
   "source": [
    "combined_df = pd.concat([\n",
    "    ny_data.assign(Country='New_York'),\n",
    "    mx_data.assign(Country='Mexico')\n",
    "])\n",
    "\n",
    "# Set the figure size\n",
    "plt.figure(figsize=(12, 6))\n",
    "\n",
    "# Line plot for 'duration_minutes_standardized'\n",
    "plt.subplot(2, 2, 1)\n",
    "sns.lineplot(data=combined_df, x='hour', y='duration_minutes_standardized', hue='Country', marker='o')\n",
    "plt.title('Standardized Duration Minutes by Hour of the Day')\n",
    "plt.xlabel('Hour of the Day')\n",
    "plt.ylabel('Standardized Duration Minutes')"
   ]
  },
  {
   "cell_type": "markdown",
   "id": "0fe390c3",
   "metadata": {},
   "source": [
    "## Standardized Bikes in Use by Hour of the Day"
   ]
  },
  {
   "cell_type": "code",
   "execution_count": null,
   "id": "c163eba4",
   "metadata": {},
   "outputs": [],
   "source": [
    "plt.subplot(2, 2, 2)\n",
    "sns.lineplot(data=combined_df, x='hour', y='bikes_in_use_standardized', hue='Country', marker='o')\n",
    "plt.title('Standardized Bikes in Use by Hour of the Day')\n",
    "plt.xlabel('Hour of the Day')\n",
    "plt.ylabel('Standardized Bikes in Use')"
   ]
  },
  {
   "cell_type": "markdown",
   "id": "130443d1",
   "metadata": {},
   "source": [
    "### Adjusted Duration Minutes by Hour of the Day"
   ]
  },
  {
   "cell_type": "code",
   "execution_count": null,
   "id": "9a3874db",
   "metadata": {},
   "outputs": [],
   "source": [
    "plt.subplot(2, 2, 3)\n",
    "sns.lineplot(data=combined_df, x='hour', y='duration_minutes_adjusted', hue='Country', marker='o')\n",
    "plt.title('Adjusted Duration Minutes by Hour of the Day')\n",
    "plt.xlabel('Hour of the Day')\n",
    "plt.ylabel('Adjusted Duration Minutes')"
   ]
  },
  {
   "cell_type": "markdown",
   "id": "7316ae88",
   "metadata": {},
   "source": [
    "### Adjusted Bikes in Use by Hour of the Day"
   ]
  },
  {
   "cell_type": "code",
   "execution_count": null,
   "id": "03901060",
   "metadata": {
    "scrolled": false
   },
   "outputs": [],
   "source": [
    "# Line plot for 'bikes_in_use_adjusted'\n",
    "plt.subplot(2, 2, 4)\n",
    "sns.lineplot(data=combined_df, x='hour', y='bikes_in_use_adjusted', hue='Country', marker='o')\n",
    "plt.title('Adjusted Bikes in Use by Hour of the Day')\n",
    "plt.xlabel('Hour of the Day')\n",
    "plt.ylabel('Adjusted Bikes in Use')\n",
    "\n",
    "# Adjust layout\n",
    "plt.tight_layout()\n",
    "\n",
    "# Show the plots\n",
    "plt.show()"
   ]
  },
  {
   "cell_type": "markdown",
   "id": "65e02208",
   "metadata": {},
   "source": [
    "### Boxplot of Normalized Trip Duration by Country"
   ]
  },
  {
   "cell_type": "code",
   "execution_count": null,
   "id": "03d44ef6",
   "metadata": {
    "scrolled": true
   },
   "outputs": [],
   "source": [
    "# Set the figure size\n",
    "plt.figure(figsize=(12, 6))\n",
    "\n",
    "# Boxplot for 'duration_minutes_normalized' by country\n",
    "sns.boxplot(data=df, x='Country', y='duration_minutes_normalized')\n",
    "plt.title('Boxplot of Normalized Trip Duration by Country')\n",
    "plt.xlabel('Country')\n",
    "plt.ylabel('Normalized Trip Duration in Minutes')\n",
    "plt.show()"
   ]
  },
  {
   "cell_type": "markdown",
   "id": "0b32fa1e",
   "metadata": {},
   "source": [
    "### Boxplot of Normalized Bikes in Use by Country"
   ]
  },
  {
   "cell_type": "code",
   "execution_count": null,
   "id": "541e78ad",
   "metadata": {},
   "outputs": [],
   "source": [
    "# Set the figure size\n",
    "plt.figure(figsize=(12, 6))\n",
    "\n",
    "# Boxplot for 'bikes_in_use_normalized' by country\n",
    "sns.boxplot(data=df, x='Country', y='bikes_in_use_normalized')\n",
    "plt.title('Boxplot of Normalized Bikes in Use by Country')\n",
    "plt.xlabel('Country')\n",
    "plt.ylabel('Normalized Number of Bikes in Use')\n",
    "plt.show()"
   ]
  },
  {
   "cell_type": "markdown",
   "id": "dc82d892",
   "metadata": {},
   "source": [
    "#### Usage Over Time"
   ]
  },
  {
   "cell_type": "code",
   "execution_count": null,
   "id": "e503186a",
   "metadata": {},
   "outputs": [],
   "source": [
    "cycling_hour.rename(columns={'date_started': 'date'}, inplace=True)"
   ]
  },
  {
   "cell_type": "code",
   "execution_count": null,
   "id": "8c909027",
   "metadata": {
    "scrolled": true
   },
   "outputs": [],
   "source": [
    "cycling_hour.head()"
   ]
  },
  {
   "cell_type": "code",
   "execution_count": null,
   "id": "d9b70590",
   "metadata": {},
   "outputs": [],
   "source": [
    "# Aggregate total normalized duration per day and country\n",
    "daily_usage = cycling_hour.groupby(['date', 'Country']).agg(\n",
    "    duration_minutes_normalized=('duration_minutes_normalized', 'sum')  \n",
    ").reset_index()\n",
    "\n",
    "# Set the figure size\n",
    "plt.figure(figsize=(14, 7))\n",
    "\n",
    "# Plot the line plot\n",
    "sns.lineplot(data=daily_usage, x='date', y='duration_minutes_normalized', hue='Country', marker='o')\n",
    "\n",
    "# Set the title and labels\n",
    "plt.title('Trend of Normalized Bicycle Usage Over Time by Country')\n",
    "plt.xlabel('Date')\n",
    "plt.ylabel('Total Normalized Duration in Minutes')\n",
    "\n",
    "# Rotate x-axis labels for better readability\n",
    "plt.xticks(rotation=45)  \n",
    "\n",
    "# Show grid\n",
    "plt.grid(True) \n",
    "\n",
    "# Adjust layout to prevent clipping\n",
    "plt.tight_layout()  \n",
    "\n",
    "# Add legend with title\n",
    "plt.legend(title='Country')  \n",
    "\n",
    "# Display the plot\n",
    "plt.show()"
   ]
  },
  {
   "cell_type": "code",
   "execution_count": null,
   "id": "e965fad0",
   "metadata": {},
   "outputs": [],
   "source": [
    "df = cycling_hour"
   ]
  },
  {
   "cell_type": "markdown",
   "id": "2fa47f38",
   "metadata": {},
   "source": [
    "## MODELS"
   ]
  },
  {
   "cell_type": "code",
   "execution_count": null,
   "id": "761df361",
   "metadata": {},
   "outputs": [],
   "source": [
    "from statsmodels.tsa.arima.model import ARIMA\n",
    "from sklearn.metrics import mean_squared_error\n",
    "from sklearn.model_selection import train_test_split\n",
    "from sklearn.metrics import mean_squared_error, mean_absolute_error\n",
    "from statsmodels.tsa.statespace.sarimax import SARIMAX\n",
    "import itertools"
   ]
  },
  {
   "cell_type": "code",
   "execution_count": null,
   "id": "4f61013f",
   "metadata": {},
   "outputs": [],
   "source": [
    "# Date and hour to a datetime index\n",
    "df['datetime'] = pd.to_datetime(df['date']) + pd.to_timedelta(df['hour'], unit='h')\n",
    "df.set_index('datetime', inplace=True)\n",
    "df = df.loc[~df.index.duplicated(keep='first')]\n",
    "\n",
    "# Daily frequency \n",
    "df = df.asfreq('H')  "
   ]
  },
  {
   "cell_type": "markdown",
   "id": "3435572f",
   "metadata": {},
   "source": [
    "## Mexico"
   ]
  },
  {
   "cell_type": "code",
   "execution_count": null,
   "id": "f8dee7de",
   "metadata": {},
   "outputs": [],
   "source": [
    "# Date and hour to a datetime index\n",
    "df['datetime'] = pd.to_datetime(df['date']) + pd.to_timedelta(df['hour'], unit='h')\n",
    "df.set_index('datetime', inplace=True)\n",
    "df = df.loc[~df.index.duplicated(keep='first')]\n",
    "\n",
    "# Daily frequency \n",
    "df = df.asfreq('H')  \n",
    "\n",
    "# Filter data for Mexico\n",
    "df_mexico = df[df['Country'] == 'Mexico']"
   ]
  },
  {
   "cell_type": "code",
   "execution_count": null,
   "id": "890be9c6",
   "metadata": {},
   "outputs": [],
   "source": [
    "start_date = pd.to_datetime('2024-05-31')\n",
    "test_start_date = pd.to_datetime('2024-06-10')"
   ]
  },
  {
   "cell_type": "code",
   "execution_count": null,
   "id": "d9ec405e",
   "metadata": {},
   "outputs": [],
   "source": [
    "df_mexico.index = pd.to_datetime(df_mexico.index)"
   ]
  },
  {
   "cell_type": "code",
   "execution_count": null,
   "id": "9a904252",
   "metadata": {},
   "outputs": [],
   "source": [
    "train_mexico = df_mexico.loc[df_mexico.index < test_start_date, 'bikes_in_use_normalized']\n",
    "test_mexico= df_mexico.loc[(df_mexico.index >= test_start_date) & (df_mexico.index <= '2024-06-17'), 'bikes_in_use_normalized']"
   ]
  },
  {
   "cell_type": "markdown",
   "id": "eb0d235f",
   "metadata": {},
   "source": [
    "### ARIMA model"
   ]
  },
  {
   "cell_type": "code",
   "execution_count": null,
   "id": "692e617c",
   "metadata": {},
   "outputs": [],
   "source": [
    "# Defining ranges for p, d, q parameters\n",
    "p = range(0, 5)\n",
    "d = range(0, 2)\n",
    "q = range(0, 5)\n",
    "\n",
    "# All combinations of p, d, q\n",
    "pdq = list(itertools.product(p, d, q))\n",
    "\n",
    "best_score, best_cfg = float(\"inf\"), None\n",
    "\n",
    "for order in pdq:\n",
    "    try:\n",
    "        # Fit the ARIMA model\n",
    "        model_fit = fit_arima(train_mexico, order=order)\n",
    "        # Forecast\n",
    "        forecast_mexico = model_fit.forecast(steps=len(test_mexico))\n",
    "        # Calculate MSE\n",
    "        mse_mexico = mean_squared_error(test_mexico, forecast_mexico)\n",
    "        print(f\"ARIMA{order} MSE: {mse_mexico}\")\n",
    "        \n",
    "        if mse_mexico < best_score:\n",
    "            best_score, best_cfg = mse_mexico, order\n",
    "    except:\n",
    "        continue\n",
    "\n",
    "print(f'Best ARIMA{best_cfg} MSE: {best_score}')"
   ]
  },
  {
   "cell_type": "code",
   "execution_count": null,
   "id": "4d036b05",
   "metadata": {},
   "outputs": [],
   "source": [
    "def fit_arima(train_data, order=(2,0,3)):\n",
    "    model = ARIMA(train_data, order=order)\n",
    "    model_fit = model.fit()\n",
    "    return model_fit\n",
    "\n",
    "# Fitting the model\n",
    "model_fit_mexico = fit_arima(train_mexico)"
   ]
  },
  {
   "cell_type": "code",
   "execution_count": null,
   "id": "7ffde4c4",
   "metadata": {},
   "outputs": [],
   "source": [
    "forecast_mexico = model_fit_mexico.forecast(steps=len(test_mexico))"
   ]
  },
  {
   "cell_type": "code",
   "execution_count": null,
   "id": "f23b8a38",
   "metadata": {},
   "outputs": [],
   "source": [
    "mse_mexico = mean_squared_error(test_mexico, forecast_mexico)\n",
    "print(f\"Mean Squared Error for Mexico (ARIMA): {mse_mexico}\")"
   ]
  },
  {
   "cell_type": "code",
   "execution_count": null,
   "id": "f458ace9",
   "metadata": {},
   "outputs": [],
   "source": [
    "# Plot results\n",
    "plt.figure(figsize=(14, 7))\n",
    "plt.plot(test_mexico.index, test_mexico, label='Actual Mexico')\n",
    "plt.plot(test_mexico.index, forecast_mexico, label='Forecast Mexico', color='red')\n",
    "plt.title('ARIMA Forecast vs Actual for Mexico')\n",
    "plt.xlabel('Date')\n",
    "plt.ylabel('Bikes in Use')\n",
    "plt.legend()\n",
    "plt.show()"
   ]
  },
  {
   "cell_type": "code",
   "execution_count": null,
   "id": "1bb767ab",
   "metadata": {},
   "outputs": [],
   "source": [
    "# ARIMA Residuals\n",
    "residuals_arima = train_mexico - model_fit_mexico.fittedvalues\n",
    "plt.figure(figsize=(12, 6))\n",
    "plt.plot(residuals_arima)\n",
    "plt.title('ARIMA Residuals')\n",
    "plt.show()"
   ]
  },
  {
   "cell_type": "markdown",
   "id": "41dd11cb",
   "metadata": {},
   "source": [
    "### SARIMAX model"
   ]
  },
  {
   "cell_type": "code",
   "execution_count": null,
   "id": "26e78feb",
   "metadata": {},
   "outputs": [],
   "source": [
    "import random"
   ]
  },
  {
   "cell_type": "code",
   "execution_count": null,
   "id": "3e37fff5",
   "metadata": {},
   "outputs": [],
   "source": [
    "def fit_sarima(train_data, order, seasonal_order):\n",
    "    try:\n",
    "        model = SARIMAX(train_data, order=order, seasonal_order=seasonal_order)\n",
    "        model_fit = model.fit(disp=False)\n",
    "        return model_fit\n",
    "    except Exception as e:\n",
    "        print(f\"Error fitting SARIMA{order} x {seasonal_order}: {e}\")\n",
    "        return None\n",
    "\n",
    "# Definir rangos para parámetros\n",
    "p = range(0, 3)\n",
    "d = range(0, 2)\n",
    "q = range(0, 3)\n",
    "P = range(0, 3)\n",
    "D = range(0, 2)\n",
    "Q = range(0, 3)\n",
    "s = [24]  # Período estacional\n",
    "\n",
    "# Generar combinaciones de parámetros\n",
    "pdq = list(itertools.product(p, d, q))\n",
    "seasonal_pdq = list(itertools.product(P, D, Q, s))\n",
    "\n",
    "# Crear lista de todas las combinaciones\n",
    "all_combinations = list(itertools.product(pdq, seasonal_pdq))\n",
    "\n",
    "# Seleccionar una muestra aleatoria si hay más de 20 combinaciones\n",
    "if len(all_combinations) > 20:\n",
    "    all_combinations = random.sample(all_combinations, 20)\n",
    "\n",
    "best_mse = float(\"inf\")\n",
    "best_cfg = None\n",
    "best_model = None\n",
    "\n",
    "for count, (order, seasonal_order) in enumerate(all_combinations, start=1):\n",
    "    print(f\"Iteration {count} of {len(all_combinations)}\")\n",
    "    \n",
    "    # Verificar la longitud de la temporada\n",
    "    print(f\"Trying SARIMAX{order} x {seasonal_order}\")\n",
    "    \n",
    "    model_fit = fit_sarima(train_mexico, order=order, seasonal_order=seasonal_order)\n",
    "    \n",
    "    if model_fit:\n",
    "        try:\n",
    "            # Pronóstico\n",
    "            forecast_mexico = model_fit.get_forecast(steps=len(test_mexico)).predicted_mean\n",
    "            \n",
    "            # Verificar longitud del pronóstico\n",
    "            if len(forecast_mexico) != len(test_mexico):\n",
    "                print(f\"Warning: Forecast length ({len(forecast_mexico)}) does not match test length ({len(test_mexico)})\")\n",
    "                continue\n",
    "\n",
    "            # Calcular MSE\n",
    "            mse_mexico = mean_squared_error(test_mexico, forecast_mexico)\n",
    "            print(f\"SARIMAX{order} x {seasonal_order} MSE: {mse_mexico}\")\n",
    "\n",
    "            # Actualizar el mejor modelo si corresponde\n",
    "            if mse_mexico < best_mse:\n",
    "                best_mse = mse_mexico\n",
    "                best_cfg = (order, seasonal_order)\n",
    "                best_model = model_fit\n",
    "\n",
    "        except Exception as e:\n",
    "            print(f\"Error during forecast or MSE calculation for SARIMAX{order} x {seasonal_order}: {e}\")\n",
    "\n",
    "print(f'Best SARIMAX{best_cfg} with MSE: {best_mse}')"
   ]
  },
  {
   "cell_type": "code",
   "execution_count": null,
   "id": "44ad60d1",
   "metadata": {},
   "outputs": [],
   "source": [
    "# Function to fit \n",
    "def fit_sarimax(train_data, order=(1,0,0), seasonal_order=(2,1,1,24)):\n",
    "    model = SARIMAX(train_data, order=order, seasonal_order=seasonal_order)\n",
    "    model_fit = model.fit()\n",
    "    return model_fit\n",
    "\n",
    "# Fitting model\n",
    "model_fit_mexico_sarimax = fit_sarimax(train_mexico)"
   ]
  },
  {
   "cell_type": "code",
   "execution_count": null,
   "id": "4c75f470",
   "metadata": {},
   "outputs": [],
   "source": [
    "forecast_mexico_sarimax = model_fit_mexico_sarimax.get_forecast(steps=len(test_mexico)).predicted_mean\n",
    "\n",
    "mse_mexico_sarimax = mean_squared_error(test_mexico, forecast_mexico_sarimax)\n",
    "\n",
    "print(f\"Mean Squared Error for Mexico (SARIMAX): {mse_mexico_sarimax}\")"
   ]
  },
  {
   "cell_type": "code",
   "execution_count": null,
   "id": "1b5314d8",
   "metadata": {},
   "outputs": [],
   "source": [
    "plt.figure(figsize=(14, 7))\n",
    "plt.plot(test_mexico.index, test_mexico, label='Actual Mexico')\n",
    "plt.plot(test_mexico.index, forecast_mexico_sarimax, label='Forecast Mexico (SARIMAX)', color='red')\n",
    "plt.title('SARIMAX Forecast vs Actual for Mexico')\n",
    "plt.xlabel('Date')\n",
    "plt.ylabel('Bikes in Use')\n",
    "plt.legend()\n",
    "plt.show()"
   ]
  },
  {
   "cell_type": "code",
   "execution_count": null,
   "id": "186c0028",
   "metadata": {},
   "outputs": [],
   "source": [
    "# SARIMAX Residuals\n",
    "residuals_sarimax = train_mexico - model_fit_mexico_sarimax.fittedvalues\n",
    "plt.figure(figsize=(12, 6))\n",
    "plt.plot(residuals_sarimax)\n",
    "plt.title('SARIMAX Residuals')\n",
    "plt.show()"
   ]
  },
  {
   "cell_type": "markdown",
   "id": "d328b578",
   "metadata": {},
   "source": [
    "## New York"
   ]
  },
  {
   "cell_type": "code",
   "execution_count": null,
   "id": "2c0f82c8",
   "metadata": {},
   "outputs": [],
   "source": [
    "df_ny = df[df['Country'] == 'New_York']"
   ]
  },
  {
   "cell_type": "code",
   "execution_count": null,
   "id": "83afc215",
   "metadata": {},
   "outputs": [],
   "source": [
    "train_ny = df_ny.loc[df_ny.index < '2024-06-10']['bikes_in_use_normalized']\n",
    "test_ny = df_ny.loc[df_ny.index >= '2024-06-10']['bikes_in_use_normalized']"
   ]
  },
  {
   "cell_type": "code",
   "execution_count": null,
   "id": "4ec217ee",
   "metadata": {},
   "outputs": [],
   "source": [
    "df_ny.index = pd.to_datetime(df_ny.index)\n",
    "\n",
    "# Define las fechas de corte para el entrenamiento y la prueba\n",
    "start_date = pd.to_datetime('2024-05-31')\n",
    "test_start_date = pd.to_datetime('2024-06-10')\n",
    "\n",
    "# Filtra los datos para los conjuntos de entrenamiento y prueba\n",
    "train_ny = df_ny.loc[df_ny.index < test_start_date, 'bikes_in_use_normalized']\n",
    "test_ny = df_ny.loc[(df_ny.index >= test_start_date) & (df_ny.index <= '2024-06-17'), 'bikes_in_use_normalized']"
   ]
  },
  {
   "cell_type": "markdown",
   "id": "6aa6a8a7",
   "metadata": {},
   "source": [
    "## ARIMA MODEL"
   ]
  },
  {
   "cell_type": "markdown",
   "id": "3b5ffef4",
   "metadata": {},
   "source": [
    "### High residues "
   ]
  },
  {
   "cell_type": "code",
   "execution_count": null,
   "id": "b00a1887",
   "metadata": {},
   "outputs": [],
   "source": [
    "p = range(0, 5)\n",
    "d = range(0, 2)\n",
    "q = range(0, 5)\n",
    "\n",
    "pdq = list(itertools.product(p, d, q))\n",
    "\n",
    "best_score, best_cfg = float(\"inf\"), None\n",
    "\n",
    "for order in pdq:\n",
    "    try:\n",
    "        model_fit = fit_arima(train_ny, order=order)\n",
    "        residuals = model_fit.resid\n",
    "        forecast_ny = model_fit.forecast(steps=len(test_ny))\n",
    "        mse_ny = mean_squared_error(test_ny, forecast_ny)\n",
    "        print(f\"ARIMA{order} MSE: {mse_ny}\")\n",
    "        \n",
    "        if mse_ny < best_score:\n",
    "            best_score, best_cfg = mse_ny, order\n",
    "    except:\n",
    "        continue\n",
    "\n",
    "print(f'Best ARIMA{best_cfg} MSE: {best_score}')"
   ]
  },
  {
   "cell_type": "code",
   "execution_count": null,
   "id": "df38f4a3",
   "metadata": {},
   "outputs": [],
   "source": [
    "def fit_arima(train_data, order=(0,0,3)):\n",
    "    model = ARIMA(train_data, order=order)\n",
    "    model_fit = model.fit()\n",
    "    return model_fit\n",
    "\n",
    "# Fitting the model\n",
    "model_fit_ny = fit_arima(train_ny)"
   ]
  },
  {
   "cell_type": "code",
   "execution_count": null,
   "id": "36476725",
   "metadata": {},
   "outputs": [],
   "source": [
    "forecast_ny = model_fit_ny.forecast(steps=len(test_ny))"
   ]
  },
  {
   "cell_type": "code",
   "execution_count": null,
   "id": "36b9ef9a",
   "metadata": {},
   "outputs": [],
   "source": [
    "mse_ny = mean_squared_error(test_ny, forecast_ny)\n",
    "print(f\"Mean Squared Error for New York (ARIMA): {mse_ny}\")"
   ]
  },
  {
   "cell_type": "code",
   "execution_count": null,
   "id": "63c0ef26",
   "metadata": {
    "scrolled": true
   },
   "outputs": [],
   "source": [
    "# ARIMA Residuals\n",
    "residuals_arima = train_ny - model_fit_ny.fittedvalues\n",
    "plt.figure(figsize=(12, 6))\n",
    "plt.plot(residuals_arima)\n",
    "plt.title('ARIMA Residuals')\n",
    "plt.show()"
   ]
  },
  {
   "cell_type": "code",
   "execution_count": null,
   "id": "6cc9ec29",
   "metadata": {},
   "outputs": [],
   "source": [
    "# Fit the best ARIMA model\n",
    "best_order = (0, 0, 3)\n",
    "model_fit = fit_arima(train_ny, order=best_order)\n",
    "\n",
    "residuals = model_fit.resid\n",
    "plt.figure(figsize=(12, 6))\n",
    "plt.subplot(2, 1, 1)\n",
    "plt.plot(residuals)\n",
    "plt.title('Residuals of the Best ARIMA Model')\n",
    "plt.subplot(2, 1, 2)\n",
    "plt.hist(residuals, bins=50)\n",
    "plt.title('Histogram of Residuals')\n",
    "plt.tight_layout()\n",
    "plt.show()"
   ]
  },
  {
   "cell_type": "markdown",
   "id": "1e71679a",
   "metadata": {},
   "source": [
    "### SARIMAX MODEL"
   ]
  },
  {
   "cell_type": "code",
   "execution_count": null,
   "id": "46ea04f9",
   "metadata": {
    "scrolled": true
   },
   "outputs": [],
   "source": [
    "def fit_sarima(train_data, order, seasonal_order):\n",
    "    try:\n",
    "        model = SARIMAX(train_data, order=order, seasonal_order=seasonal_order)\n",
    "        model_fit = model.fit(disp=False)\n",
    "        return model_fit\n",
    "    except Exception as e:\n",
    "        print(f\"Error fitting SARIMA{order} x {seasonal_order}: {e}\")\n",
    "        return None\n",
    "\n",
    "# Definir rangos para parámetros\n",
    "p = range(0, 3)\n",
    "d = range(0, 2)\n",
    "q = range(0, 3)\n",
    "P = range(0, 3)\n",
    "D = range(0, 2)\n",
    "Q = range(0, 3)\n",
    "s = [24]  # Período estacional\n",
    "\n",
    "# Generar combinaciones de parámetros\n",
    "pdq = list(itertools.product(p, d, q))\n",
    "seasonal_pdq = list(itertools.product(P, D, Q, s))\n",
    "\n",
    "# Crear lista de todas las combinaciones\n",
    "all_combinations = list(itertools.product(pdq, seasonal_pdq))\n",
    "\n",
    "# Seleccionar una muestra aleatoria si hay más de 20 combinaciones\n",
    "if len(all_combinations) > 20:\n",
    "    all_combinations = random.sample(all_combinations, 20)\n",
    "\n",
    "best_mse = float(\"inf\")\n",
    "best_cfg = None\n",
    "best_model = None\n",
    "\n",
    "for count, (order, seasonal_order) in enumerate(all_combinations, start=1):\n",
    "    print(f\"Iteration {count} of {len(all_combinations)}\")\n",
    "    \n",
    "    # Verificar la longitud de la temporada\n",
    "    print(f\"Trying SARIMAX{order} x {seasonal_order}\")\n",
    "    \n",
    "    model_fit = fit_sarima(train_ny, order=order, seasonal_order=seasonal_order)\n",
    "    \n",
    "    if model_fit:\n",
    "        try:\n",
    "            # Pronóstico\n",
    "            forecast_ny = model_fit.get_forecast(steps=len(test_ny)).predicted_mean\n",
    "            \n",
    "            # Verificar longitud del pronóstico\n",
    "            if len(forecast_ny) != len(test_ny):\n",
    "                print(f\"Warning: Forecast length ({len(forecast_ny)}) does not match test length ({len(test_ny)})\")\n",
    "                continue\n",
    "\n",
    "            # Calcular MSE\n",
    "            mse_ny = mean_squared_error(test_ny, forecast_ny)\n",
    "            print(f\"SARIMAX{order} x {seasonal_order} MSE: {mse_ny}\")\n",
    "\n",
    "            # Actualizar el mejor modelo si corresponde\n",
    "            if mse_ny < best_mse:\n",
    "                best_mse = mse_ny\n",
    "                best_cfg = (order, seasonal_order)\n",
    "                best_model = model_fit\n",
    "\n",
    "        except Exception as e:\n",
    "            print(f\"Error during forecast or MSE calculation for SARIMAX{order} x {seasonal_order}: {e}\")\n",
    "\n",
    "print(f'Best SARIMAX{best_cfg} with MSE: {best_mse}')"
   ]
  },
  {
   "cell_type": "markdown",
   "id": "02411b87",
   "metadata": {},
   "source": [
    "#### Forecast"
   ]
  },
  {
   "cell_type": "code",
   "execution_count": null,
   "id": "1e8cbc72",
   "metadata": {},
   "outputs": [],
   "source": [
    "#Mexico\n",
    "#ARIMA model\n",
    "model_fit_mexico = fit_arima(train_mexico)\n",
    "\n",
    "# Forecast steps for 7 days (168 hours)\n",
    "forecast_steps = 7 * 24  \n",
    "\n",
    "forecast_index = pd.date_range(start=train_mexico.index[-1] + pd.Timedelta(hours=1), periods=forecast_steps, freq='H')\n",
    "\n",
    "forecast_mexico = model_fit_mexico.forecast(steps=forecast_steps)\n",
    "\n",
    "forecast_df = pd.DataFrame({\n",
    "    'Datetime': forecast_index,\n",
    "    'Forecast': forecast_mexico\n",
    "})\n",
    "\n",
    "#New York \n",
    "# Fit the ARIMA model\n",
    "model_fit_mexico = fit_arima(train_mexico)\n",
    "\n",
    "# Define the forecast steps for 7 days (168 hours)\n",
    "forecast_steps = 7 * 24  # 7 days * 24 hours/day = 168 hours\n",
    "\n",
    "# Create the date range index for the forecast\n",
    "forecast_index = pd.date_range(start=train_mexico.index[-1] + pd.Timedelta(hours=1), periods=forecast_steps, freq='H')\n",
    "\n",
    "# Make the forecast with ARIMA\n",
    "forecast_mexico = model_fit_mexico.forecast(steps=forecast_steps)\n",
    "\n",
    "# Create a DataFrame for the ARIMA forecast results\n",
    "forecast_df = pd.DataFrame({\n",
    "    'Datetime': forecast_index,\n",
    "    'Forecast': forecast_mexico\n",
    "})\n",
    "\n",
    "# Display the ARIMA forecast results\n",
    "print(forecast_df)\n",
    "\n",
    "# Fit the SARIMAX model\n",
    "model_fit_mexico_sarimax = fit_sarimax(train_mexico)\n",
    "\n",
    "# Make the forecast with SARIMAX\n",
    "forecast_mexico_sarimax = model_fit_mexico_sarimax.get_forecast(steps=forecast_steps).predicted_mean\n",
    "\n",
    "# Create a DataFrame for the SARIMAX forecast results\n",
    "forecast_df_sarimax = pd.DataFrame({\n",
    "    'Datetime': forecast_index,\n",
    "    'Forecast_SARIMAX': forecast_mexico_sarimax\n",
    "})\n",
    "\n",
    "# Display the SARIMAX forecast results\n",
    "print(forecast_df_sarimax)"
   ]
  },
  {
   "cell_type": "markdown",
   "id": "e7865062",
   "metadata": {},
   "source": [
    "### Forecast"
   ]
  },
  {
   "cell_type": "code",
   "execution_count": null,
   "id": "25551ed6",
   "metadata": {
    "scrolled": true
   },
   "outputs": [],
   "source": [
    "plt.figure(figsize=(14, 7))\n",
    "plt.plot(cycling_hour.index, cycling_hour['bikes_in_use_normalized'], label='Actual')\n",
    "plt.plot(forecast_df.index, forecast_df['forecast'], label='Forecast', color='red')\n",
    "plt.title('Forecast vs Actual')\n",
    "plt.xlabel('Date')\n",
    "plt.ylabel('bikes_in_use_normalized')\n",
    "plt.legend()\n",
    "plt.show()"
   ]
  },
  {
   "cell_type": "code",
   "execution_count": null,
   "id": "a0999915",
   "metadata": {},
   "outputs": [],
   "source": [
    "plt.figure(figsize=(14, 7))\n",
    "plt.plot(cycling_hour.index, cycling_hour['duration_minutes'], label='Actual')\n",
    "plt.plot(forecast_7_days['ds'], forecast_7_days['yhat'], label='Forecast', color='red')\n",
    "plt.title('Forecast vs Actual')\n",
    "plt.xlabel('Date')\n",
    "plt.ylabel('Duration in Minutes')\n",
    "plt.legend()\n",
    "plt.show()"
   ]
  },
  {
   "cell_type": "markdown",
   "id": "2a426aa9",
   "metadata": {},
   "source": [
    "### Forecast by Country"
   ]
  },
  {
   "cell_type": "code",
   "execution_count": null,
   "id": "d1dc05c9",
   "metadata": {},
   "outputs": [],
   "source": [
    "# Dataframe\n",
    "future_dates = pd.date_range(start=pd.Timestamp.today(), periods=7, freq='D')\n",
    "future_df = pd.DataFrame({\n",
    "    'day_of_week': future_dates.dayofweek,\n",
    "    'hour_started': 12,\n",
    "    'month': future_dates.month\n",
    "})\n",
    "\n",
    "# Predict durations for the next 7 days by country\n",
    "for country, model in models.items():\n",
    "    future_predictions = model.predict(future_df)\n",
    "    predictions[country] = future_predictions\n",
    "\n",
    "    \n",
    "for country, preds in predictions.items():\n",
    "    print(f'Predicted Durations for the Next 7 Days in {country}:')\n",
    "    for date, pred in zip(future_dates, preds):\n",
    "        print(f'{date.date()}: {pred:.2f} minutes')\n",
    "    print()"
   ]
  },
  {
   "cell_type": "code",
   "execution_count": null,
   "id": "e7634ee4",
   "metadata": {},
   "outputs": [],
   "source": [
    "plt.figure(figsize=(14, 8))\n",
    "\n",
    "for country, preds in predictions.items():\n",
    "    plt.plot(future_dates, preds, marker='o', label=country)\n",
    "\n",
    "plt.title('Predicted Bicycle Usage Duration for the Next 7 Days')\n",
    "plt.xlabel('Date')\n",
    "plt.ylabel('Predicted Duration (Minutes)')\n",
    "plt.legend()\n",
    "plt.xticks(rotation=45)\n",
    "plt.grid(True)\n",
    "plt.show()"
   ]
  }
 ],
 "metadata": {
  "kernelspec": {
   "display_name": "Python 3 (ipykernel)",
   "language": "python",
   "name": "python3"
  },
  "language_info": {
   "codemirror_mode": {
    "name": "ipython",
    "version": 3
   },
   "file_extension": ".py",
   "mimetype": "text/x-python",
   "name": "python",
   "nbconvert_exporter": "python",
   "pygments_lexer": "ipython3",
   "version": "3.11.4"
  }
 },
 "nbformat": 4,
 "nbformat_minor": 5
}
